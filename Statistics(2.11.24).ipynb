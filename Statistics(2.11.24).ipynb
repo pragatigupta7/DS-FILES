{
 "cells": [
  {
   "cell_type": "markdown",
   "id": "644eff25",
   "metadata": {},
   "source": [
    "## 2 tail independent tests:\n",
    "A statistics teacher wants to compare his two classes to see if they performed any differently on the tests he gave that semester. Class A had 25 students with  an average score of 70, standard deviation 15. Class B had 20 students with an average score of 74 , standard deviation 25. Using alpha 0.05 did these two classes perform differently on the tests?.\n",
    "\n"
   ]
  },
  {
   "cell_type": "code",
   "execution_count": 3,
   "id": "4be73f82",
   "metadata": {},
   "outputs": [
    {
     "data": {
      "text/plain": [
       "43"
      ]
     },
     "execution_count": 3,
     "metadata": {},
     "output_type": "execute_result"
    }
   ],
   "source": [
    "## H0--Two classes perform same on the tests\n",
    "## Ha-- Two classes perform differently on the tests\n",
    "## Given_data\n",
    "x1_bar= 70\n",
    "n1=25\n",
    "s1=15\n",
    "n2=20\n",
    "x2_bar=74\n",
    "s2= 25\n",
    "df1=n1-1\n",
    "df2=n2-1\n",
    "df1+df2\n",
    "## alpha=0.05 ,CI= 1-0.05= 0.95"
   ]
  },
  {
   "cell_type": "code",
   "execution_count": 26,
   "id": "65ed5172",
   "metadata": {},
   "outputs": [],
   "source": [
    "## tstats= (x1_bar-x2_bar)/sqrt(Sp_square/n1 +(Sp_square/n2)), Sp_square= s1_square*df1 +s2_square*df2/(df1+df2)"
   ]
  },
  {
   "cell_type": "code",
   "execution_count": 27,
   "id": "e68cde04",
   "metadata": {},
   "outputs": [
    {
     "data": {
      "text/plain": [
       "401.74418604651163"
      ]
     },
     "execution_count": 27,
     "metadata": {},
     "output_type": "execute_result"
    }
   ],
   "source": [
    "Sp_square= (((s1**2)*df1)+ ((s2**2)*df2))/(df1+df2)\n",
    "Sp_square"
   ]
  },
  {
   "cell_type": "code",
   "execution_count": 28,
   "id": "22fb739e",
   "metadata": {},
   "outputs": [],
   "source": [
    "import numpy as np"
   ]
  },
  {
   "cell_type": "code",
   "execution_count": 29,
   "id": "44415d05",
   "metadata": {},
   "outputs": [
    {
     "data": {
      "text/plain": [
       "-0.6652179145016456"
      ]
     },
     "execution_count": 29,
     "metadata": {},
     "output_type": "execute_result"
    }
   ],
   "source": [
    "tstats= (x1_bar-x2_bar)/np.sqrt((Sp_square/n1)+(Sp_square/n2))\n",
    "tstats"
   ]
  },
  {
   "cell_type": "code",
   "execution_count": 16,
   "id": "33891990",
   "metadata": {},
   "outputs": [],
   "source": [
    "import scipy.stats as stats"
   ]
  },
  {
   "cell_type": "code",
   "execution_count": 19,
   "id": "d8a46c69",
   "metadata": {},
   "outputs": [
    {
     "data": {
      "text/plain": [
       "2.016692199227824"
      ]
     },
     "execution_count": 19,
     "metadata": {},
     "output_type": "execute_result"
    }
   ],
   "source": [
    "t_critical=stats.t.ppf(0.975,43)\n",
    "t_critical"
   ]
  },
  {
   "cell_type": "code",
   "execution_count": 20,
   "id": "862cc9e9",
   "metadata": {},
   "outputs": [],
   "source": [
    "## Since t_stats>t_critical fail to reject H0\n",
    "## So, Two classes are perform same in the tests"
   ]
  },
  {
   "cell_type": "code",
   "execution_count": 34,
   "id": "08532147",
   "metadata": {},
   "outputs": [],
   "source": [
    "sample1= stats.norm.rvs(size=25,loc=70,scale=15)\n",
    "sample2= stats.norm.rvs(size=20,loc=74,scale=25)"
   ]
  },
  {
   "cell_type": "code",
   "execution_count": 35,
   "id": "ca877b65",
   "metadata": {},
   "outputs": [
    {
     "data": {
      "text/plain": [
       "array([89.07630042, 65.05378296, 75.34790432, 88.28535152, 52.12492611,\n",
       "       75.2799295 , 73.61602361, 86.83172696, 85.02459138, 86.78909787,\n",
       "       67.1320916 , 66.41451904, 84.88503249, 66.30759392, 52.4431445 ,\n",
       "       68.33248247, 84.53502736, 52.3925243 , 82.83749123, 57.98319346,\n",
       "       56.4742944 , 44.48583959, 63.94116717, 93.44204531, 29.73001206])"
      ]
     },
     "execution_count": 35,
     "metadata": {},
     "output_type": "execute_result"
    }
   ],
   "source": [
    "sample1"
   ]
  },
  {
   "cell_type": "code",
   "execution_count": 36,
   "id": "610f304b",
   "metadata": {},
   "outputs": [
    {
     "data": {
      "text/plain": [
       "array([ 82.82876488,  65.62772124,  65.405775  ,  42.47991235,\n",
       "        36.58378855, 105.36026714, 106.66626465,  88.2932553 ,\n",
       "        93.12599781,  81.17300856,  59.8060983 , 100.47468511,\n",
       "       124.53139832,  93.42063608,  43.18934682,  82.47641435,\n",
       "        56.21182931,  41.07156892,  78.42044832,  73.72693472])"
      ]
     },
     "execution_count": 36,
     "metadata": {},
     "output_type": "execute_result"
    }
   ],
   "source": [
    "sample2"
   ]
  },
  {
   "cell_type": "code",
   "execution_count": 37,
   "id": "b7cc246e",
   "metadata": {},
   "outputs": [
    {
     "data": {
      "text/plain": [
       "TtestResult(statistic=-0.9976694258055491, pvalue=0.32402106386269247, df=43.0)"
      ]
     },
     "execution_count": 37,
     "metadata": {},
     "output_type": "execute_result"
    }
   ],
   "source": [
    "stats.ttest_ind(sample1,sample2)"
   ]
  },
  {
   "cell_type": "markdown",
   "id": "76f3c9e5",
   "metadata": {},
   "source": [
    "## Paired_t-test"
   ]
  },
  {
   "cell_type": "markdown",
   "id": "7117a073",
   "metadata": {},
   "source": [
    " ## A study has conducted to determine the effectiveness of a weight base program. The table below shows the before and after weights of 10 subject in the program. A) Is the program effective for reducing weight? B) (use a 5% significant level) construct a 95% confidence interval and determine the margin of error."
   ]
  },
  {
   "cell_type": "code",
   "execution_count": null,
   "id": "05fcc1e0",
   "metadata": {},
   "outputs": [],
   "source": [
    "S.\tBef Aft\n",
    "1\t185\t169\n",
    "2\t192\t187\n",
    "3\t206\t193\n",
    "4\t177\t176\n",
    "5\t225\t194\n",
    "6\t168\t171\n",
    "7\t256\t228\n",
    "8\t239\t217\n",
    "9\t199\t204\n",
    "10\t218\t195\n"
   ]
  },
  {
   "cell_type": "code",
   "execution_count": 39,
   "id": "8813f56d",
   "metadata": {},
   "outputs": [],
   "source": [
    "## H0--Weight reduction program is not effective\n",
    "## Ha-- Weight reduction program is effective\n",
    "## Given_data\n",
    "n=10\n",
    "## alpha=5%(0.05),CI=0.95(95%)"
   ]
  },
  {
   "cell_type": "code",
   "execution_count": 40,
   "id": "9580df7d",
   "metadata": {},
   "outputs": [],
   "source": [
    "Before=[185,192,206,177,225,168,256,239,199,218]\n",
    "After=[169,187,193,176,194,171,228,217,204,195]"
   ]
  },
  {
   "cell_type": "code",
   "execution_count": 41,
   "id": "a1008ab6",
   "metadata": {},
   "outputs": [],
   "source": [
    "## tstats= d_bar/(sd_bar/sqrt(n))"
   ]
  },
  {
   "cell_type": "code",
   "execution_count": 42,
   "id": "2583a172",
   "metadata": {},
   "outputs": [
    {
     "data": {
      "text/plain": [
       "[-16, -5, -13, -1, -31, 3, -28, -22, 5, -23]"
      ]
     },
     "execution_count": 42,
     "metadata": {},
     "output_type": "execute_result"
    }
   ],
   "source": [
    "difference=[]\n",
    "for i in range(len(After)):\n",
    "    difference.append(After[i]-Before[i])\n",
    "difference"
   ]
  },
  {
   "cell_type": "code",
   "execution_count": 46,
   "id": "4e0a4839",
   "metadata": {},
   "outputs": [
    {
     "data": {
      "text/plain": [
       "-13.1"
      ]
     },
     "execution_count": 46,
     "metadata": {},
     "output_type": "execute_result"
    }
   ],
   "source": [
    "d_bar= np.mean(difference)\n",
    "d_bar"
   ]
  },
  {
   "cell_type": "code",
   "execution_count": 49,
   "id": "2bd7abcb",
   "metadata": {},
   "outputs": [
    {
     "data": {
      "text/plain": [
       "13.02518927139086"
      ]
     },
     "execution_count": 49,
     "metadata": {},
     "output_type": "execute_result"
    }
   ],
   "source": [
    "sd_bar= np.std(difference,ddof=1)\n",
    "sd_bar"
   ]
  },
  {
   "cell_type": "code",
   "execution_count": 50,
   "id": "35b6c285",
   "metadata": {},
   "outputs": [],
   "source": [
    "n=10"
   ]
  },
  {
   "cell_type": "code",
   "execution_count": 51,
   "id": "4f1e9695",
   "metadata": {},
   "outputs": [
    {
     "data": {
      "text/plain": [
       "-3.180440336417639"
      ]
     },
     "execution_count": 51,
     "metadata": {},
     "output_type": "execute_result"
    }
   ],
   "source": [
    "tstats= d_bar/(sd_bar/np.sqrt(n))\n",
    "tstats"
   ]
  },
  {
   "cell_type": "code",
   "execution_count": 52,
   "id": "d2f302ce",
   "metadata": {},
   "outputs": [
    {
     "data": {
      "text/plain": [
       "2.2621571628540993"
      ]
     },
     "execution_count": 52,
     "metadata": {},
     "output_type": "execute_result"
    }
   ],
   "source": [
    "t_critical= stats.t.ppf(0.975,9)\n",
    "t_critical"
   ]
  },
  {
   "cell_type": "code",
   "execution_count": 53,
   "id": "0f60e76c",
   "metadata": {},
   "outputs": [],
   "source": [
    "## t_critical < tstats reject H0\n",
    "## Weight reduction program is effeective"
   ]
  },
  {
   "cell_type": "code",
   "execution_count": 54,
   "id": "9085c7f4",
   "metadata": {},
   "outputs": [
    {
     "data": {
      "text/plain": [
       "TtestResult(statistic=-3.180440336417639, pvalue=0.011176870661470717, df=9)"
      ]
     },
     "execution_count": 54,
     "metadata": {},
     "output_type": "execute_result"
    }
   ],
   "source": [
    "stats.ttest_rel(After,Before)"
   ]
  },
  {
   "cell_type": "code",
   "execution_count": null,
   "id": "b80744ef",
   "metadata": {},
   "outputs": [],
   "source": []
  }
 ],
 "metadata": {
  "kernelspec": {
   "display_name": "Python 3 (ipykernel)",
   "language": "python",
   "name": "python3"
  },
  "language_info": {
   "codemirror_mode": {
    "name": "ipython",
    "version": 3
   },
   "file_extension": ".py",
   "mimetype": "text/x-python",
   "name": "python",
   "nbconvert_exporter": "python",
   "pygments_lexer": "ipython3",
   "version": "3.11.5"
  }
 },
 "nbformat": 4,
 "nbformat_minor": 5
}
