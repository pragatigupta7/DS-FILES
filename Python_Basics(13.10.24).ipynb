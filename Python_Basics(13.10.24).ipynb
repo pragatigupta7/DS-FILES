{
 "cells": [
  {
   "cell_type": "markdown",
   "id": "500b98f8",
   "metadata": {},
   "source": [
    "## Arithmetic Operations"
   ]
  },
  {
   "cell_type": "code",
   "execution_count": 2,
   "id": "747eb52b",
   "metadata": {},
   "outputs": [],
   "source": [
    "## +,-,*,/,%,**"
   ]
  },
  {
   "cell_type": "code",
   "execution_count": 3,
   "id": "6d5280f5",
   "metadata": {},
   "outputs": [],
   "source": [
    "a=40\n",
    "b=15"
   ]
  },
  {
   "cell_type": "code",
   "execution_count": 21,
   "id": "b1fc828e",
   "metadata": {},
   "outputs": [
    {
     "name": "stdout",
     "output_type": "stream",
     "text": [
      "Addition of the Numbers : 55\n",
      "Subtraction of the Numbers : 25\n",
      "Multiplication of the Numbers : 600\n",
      "Quotient of Numbers : 2.67 , Remainder of the Numbers: 10\n",
      "Power of the Numbers : 16\n"
     ]
    }
   ],
   "source": [
    "print('Addition of the Numbers :',a+b)\n",
    "print('Subtraction of the Numbers :',a-b)\n",
    "print('Multiplication of the Numbers :',a*b)\n",
    "print('Quotient of Numbers :',round(a/b,2),', ' 'Remainder of the Numbers:',a%b)\n",
    "print('Power of the Numbers :',2**4)"
   ]
  },
  {
   "cell_type": "code",
   "execution_count": 20,
   "id": "ba763d8e",
   "metadata": {},
   "outputs": [
    {
     "data": {
      "text/plain": [
       "3.46"
      ]
     },
     "execution_count": 20,
     "metadata": {},
     "output_type": "execute_result"
    }
   ],
   "source": [
    "round(3.45678,2)"
   ]
  },
  {
   "cell_type": "code",
   "execution_count": 22,
   "id": "502dc477",
   "metadata": {},
   "outputs": [],
   "source": [
    "## Conditional Operators"
   ]
  },
  {
   "cell_type": "code",
   "execution_count": 23,
   "id": "b73ffa60",
   "metadata": {},
   "outputs": [
    {
     "data": {
      "text/plain": [
       "True"
      ]
     },
     "execution_count": 23,
     "metadata": {},
     "output_type": "execute_result"
    }
   ],
   "source": [
    "10==10"
   ]
  },
  {
   "cell_type": "code",
   "execution_count": 24,
   "id": "db9aa1b0",
   "metadata": {},
   "outputs": [
    {
     "data": {
      "text/plain": [
       "False"
      ]
     },
     "execution_count": 24,
     "metadata": {},
     "output_type": "execute_result"
    }
   ],
   "source": [
    "10!=10"
   ]
  },
  {
   "cell_type": "code",
   "execution_count": 25,
   "id": "4b186756",
   "metadata": {},
   "outputs": [
    {
     "data": {
      "text/plain": [
       "True"
      ]
     },
     "execution_count": 25,
     "metadata": {},
     "output_type": "execute_result"
    }
   ],
   "source": [
    "20>=20"
   ]
  },
  {
   "cell_type": "code",
   "execution_count": 26,
   "id": "8f007463",
   "metadata": {},
   "outputs": [
    {
     "data": {
      "text/plain": [
       "False"
      ]
     },
     "execution_count": 26,
     "metadata": {},
     "output_type": "execute_result"
    }
   ],
   "source": [
    "40<=20"
   ]
  },
  {
   "cell_type": "code",
   "execution_count": 27,
   "id": "46ac31d0",
   "metadata": {},
   "outputs": [
    {
     "data": {
      "text/plain": [
       "False"
      ]
     },
     "execution_count": 27,
     "metadata": {},
     "output_type": "execute_result"
    }
   ],
   "source": [
    "(20==20) and (10>100)"
   ]
  },
  {
   "cell_type": "code",
   "execution_count": 28,
   "id": "0aa2e2c6",
   "metadata": {},
   "outputs": [
    {
     "data": {
      "text/plain": [
       "True"
      ]
     },
     "execution_count": 28,
     "metadata": {},
     "output_type": "execute_result"
    }
   ],
   "source": [
    "(20==20) and (10<100)"
   ]
  },
  {
   "cell_type": "code",
   "execution_count": 29,
   "id": "0315dc4c",
   "metadata": {},
   "outputs": [
    {
     "data": {
      "text/plain": [
       "True"
      ]
     },
     "execution_count": 29,
     "metadata": {},
     "output_type": "execute_result"
    }
   ],
   "source": [
    "(20==20) or (10>100)"
   ]
  },
  {
   "cell_type": "code",
   "execution_count": 30,
   "id": "f6864ce4",
   "metadata": {},
   "outputs": [
    {
     "data": {
      "text/plain": [
       "False"
      ]
     },
     "execution_count": 30,
     "metadata": {},
     "output_type": "execute_result"
    }
   ],
   "source": [
    "not(10==10)"
   ]
  },
  {
   "cell_type": "code",
   "execution_count": 31,
   "id": "193099d5",
   "metadata": {},
   "outputs": [
    {
     "data": {
      "text/plain": [
       "True"
      ]
     },
     "execution_count": 31,
     "metadata": {},
     "output_type": "execute_result"
    }
   ],
   "source": [
    "(20==20) & (10<100)"
   ]
  },
  {
   "cell_type": "code",
   "execution_count": 32,
   "id": "695c8c95",
   "metadata": {},
   "outputs": [
    {
     "data": {
      "text/plain": [
       "True"
      ]
     },
     "execution_count": 32,
     "metadata": {},
     "output_type": "execute_result"
    }
   ],
   "source": [
    "(20==20) | (10<100)"
   ]
  },
  {
   "cell_type": "markdown",
   "id": "7f43cff3",
   "metadata": {},
   "source": [
    "## math"
   ]
  },
  {
   "cell_type": "code",
   "execution_count": 33,
   "id": "db13863f",
   "metadata": {},
   "outputs": [],
   "source": [
    "import math"
   ]
  },
  {
   "cell_type": "code",
   "execution_count": 34,
   "id": "63ae681a",
   "metadata": {},
   "outputs": [
    {
     "data": {
      "text/plain": [
       "9.0"
      ]
     },
     "execution_count": 34,
     "metadata": {},
     "output_type": "execute_result"
    }
   ],
   "source": [
    "math.sqrt(81)"
   ]
  },
  {
   "cell_type": "code",
   "execution_count": 35,
   "id": "5d013935",
   "metadata": {},
   "outputs": [
    {
     "data": {
      "text/plain": [
       "4.0"
      ]
     },
     "execution_count": 35,
     "metadata": {},
     "output_type": "execute_result"
    }
   ],
   "source": [
    "math.cbrt(64)"
   ]
  },
  {
   "cell_type": "code",
   "execution_count": 36,
   "id": "dfee020a",
   "metadata": {},
   "outputs": [
    {
     "data": {
      "text/plain": [
       "120"
      ]
     },
     "execution_count": 36,
     "metadata": {},
     "output_type": "execute_result"
    }
   ],
   "source": [
    "math.factorial(5)"
   ]
  },
  {
   "cell_type": "code",
   "execution_count": 37,
   "id": "a8240a6d",
   "metadata": {},
   "outputs": [
    {
     "data": {
      "text/plain": [
       "3.141592653589793"
      ]
     },
     "execution_count": 37,
     "metadata": {},
     "output_type": "execute_result"
    }
   ],
   "source": [
    "math.pi"
   ]
  },
  {
   "cell_type": "code",
   "execution_count": 38,
   "id": "c750642f",
   "metadata": {},
   "outputs": [
    {
     "data": {
      "text/plain": [
       "-1.0"
      ]
     },
     "execution_count": 38,
     "metadata": {},
     "output_type": "execute_result"
    }
   ],
   "source": [
    "math.cos(math.pi)"
   ]
  },
  {
   "cell_type": "code",
   "execution_count": 40,
   "id": "eccf45b9",
   "metadata": {},
   "outputs": [
    {
     "data": {
      "text/plain": [
       "1.0"
      ]
     },
     "execution_count": 40,
     "metadata": {},
     "output_type": "execute_result"
    }
   ],
   "source": [
    "math.sin(math.pi/2)"
   ]
  },
  {
   "cell_type": "code",
   "execution_count": 41,
   "id": "d5de4193",
   "metadata": {},
   "outputs": [
    {
     "data": {
      "text/plain": [
       "4.321928094887363"
      ]
     },
     "execution_count": 41,
     "metadata": {},
     "output_type": "execute_result"
    }
   ],
   "source": [
    "math.log2(20)"
   ]
  },
  {
   "cell_type": "code",
   "execution_count": 42,
   "id": "a8d796ae",
   "metadata": {},
   "outputs": [
    {
     "data": {
      "text/plain": [
       "1.954242509439325"
      ]
     },
     "execution_count": 42,
     "metadata": {},
     "output_type": "execute_result"
    }
   ],
   "source": [
    "math.log10(90)"
   ]
  },
  {
   "cell_type": "code",
   "execution_count": 43,
   "id": "3bb06230",
   "metadata": {},
   "outputs": [
    {
     "data": {
      "text/plain": [
       "54.598150033144236"
      ]
     },
     "execution_count": 43,
     "metadata": {},
     "output_type": "execute_result"
    }
   ],
   "source": [
    "math.exp(4)"
   ]
  },
  {
   "cell_type": "code",
   "execution_count": 44,
   "id": "b4fa3100",
   "metadata": {},
   "outputs": [],
   "source": [
    "## unary operators"
   ]
  },
  {
   "cell_type": "code",
   "execution_count": 45,
   "id": "17fe867f",
   "metadata": {},
   "outputs": [],
   "source": [
    "a=20"
   ]
  },
  {
   "cell_type": "code",
   "execution_count": 46,
   "id": "acca0b79",
   "metadata": {},
   "outputs": [],
   "source": [
    "a+=5"
   ]
  },
  {
   "cell_type": "code",
   "execution_count": 47,
   "id": "d2708488",
   "metadata": {},
   "outputs": [
    {
     "data": {
      "text/plain": [
       "25"
      ]
     },
     "execution_count": 47,
     "metadata": {},
     "output_type": "execute_result"
    }
   ],
   "source": [
    "a"
   ]
  },
  {
   "cell_type": "code",
   "execution_count": 48,
   "id": "ebb78246",
   "metadata": {},
   "outputs": [],
   "source": [
    "a-=5"
   ]
  },
  {
   "cell_type": "code",
   "execution_count": 49,
   "id": "f99c1275",
   "metadata": {},
   "outputs": [
    {
     "data": {
      "text/plain": [
       "20"
      ]
     },
     "execution_count": 49,
     "metadata": {},
     "output_type": "execute_result"
    }
   ],
   "source": [
    "a"
   ]
  },
  {
   "cell_type": "code",
   "execution_count": 50,
   "id": "30e82088",
   "metadata": {},
   "outputs": [],
   "source": [
    "a*=5"
   ]
  },
  {
   "cell_type": "code",
   "execution_count": 51,
   "id": "b4486574",
   "metadata": {},
   "outputs": [
    {
     "data": {
      "text/plain": [
       "100"
      ]
     },
     "execution_count": 51,
     "metadata": {},
     "output_type": "execute_result"
    }
   ],
   "source": [
    "a"
   ]
  },
  {
   "cell_type": "code",
   "execution_count": 52,
   "id": "9128fcd1",
   "metadata": {},
   "outputs": [],
   "source": [
    "a/=5"
   ]
  },
  {
   "cell_type": "code",
   "execution_count": 53,
   "id": "44a63963",
   "metadata": {},
   "outputs": [
    {
     "data": {
      "text/plain": [
       "20.0"
      ]
     },
     "execution_count": 53,
     "metadata": {},
     "output_type": "execute_result"
    }
   ],
   "source": [
    "a"
   ]
  },
  {
   "cell_type": "code",
   "execution_count": 54,
   "id": "d6fcf68d",
   "metadata": {},
   "outputs": [],
   "source": [
    "## Data types"
   ]
  },
  {
   "cell_type": "code",
   "execution_count": 55,
   "id": "10daa096",
   "metadata": {},
   "outputs": [],
   "source": [
    "a=20"
   ]
  },
  {
   "cell_type": "code",
   "execution_count": 56,
   "id": "414e61c0",
   "metadata": {},
   "outputs": [
    {
     "data": {
      "text/plain": [
       "int"
      ]
     },
     "execution_count": 56,
     "metadata": {},
     "output_type": "execute_result"
    }
   ],
   "source": [
    "type(a)"
   ]
  },
  {
   "cell_type": "code",
   "execution_count": 57,
   "id": "577cf0f0",
   "metadata": {},
   "outputs": [],
   "source": [
    "b=40.75"
   ]
  },
  {
   "cell_type": "code",
   "execution_count": 58,
   "id": "ecbaa82f",
   "metadata": {},
   "outputs": [
    {
     "data": {
      "text/plain": [
       "float"
      ]
     },
     "execution_count": 58,
     "metadata": {},
     "output_type": "execute_result"
    }
   ],
   "source": [
    "type(b)"
   ]
  },
  {
   "cell_type": "code",
   "execution_count": 59,
   "id": "2eac5da5",
   "metadata": {},
   "outputs": [],
   "source": [
    "str1='Welcome to python class'"
   ]
  },
  {
   "cell_type": "code",
   "execution_count": 60,
   "id": "cb2bcf22",
   "metadata": {},
   "outputs": [
    {
     "data": {
      "text/plain": [
       "str"
      ]
     },
     "execution_count": 60,
     "metadata": {},
     "output_type": "execute_result"
    }
   ],
   "source": [
    "type(str1)"
   ]
  },
  {
   "cell_type": "code",
   "execution_count": 61,
   "id": "a446c292",
   "metadata": {},
   "outputs": [],
   "source": [
    "## Strings"
   ]
  },
  {
   "cell_type": "code",
   "execution_count": 62,
   "id": "9925c658",
   "metadata": {},
   "outputs": [
    {
     "data": {
      "text/plain": [
       "'Welcome'"
      ]
     },
     "execution_count": 62,
     "metadata": {},
     "output_type": "execute_result"
    }
   ],
   "source": [
    "str1[0:7]"
   ]
  },
  {
   "cell_type": "code",
   "execution_count": 63,
   "id": "4e9ffbbe",
   "metadata": {},
   "outputs": [
    {
     "data": {
      "text/plain": [
       "'python'"
      ]
     },
     "execution_count": 63,
     "metadata": {},
     "output_type": "execute_result"
    }
   ],
   "source": [
    "str1[11:17]"
   ]
  },
  {
   "cell_type": "code",
   "execution_count": 70,
   "id": "2336d42c",
   "metadata": {},
   "outputs": [
    {
     "data": {
      "text/plain": [
       "0"
      ]
     },
     "execution_count": 70,
     "metadata": {},
     "output_type": "execute_result"
    }
   ],
   "source": [
    "str1.index('Welcome')"
   ]
  },
  {
   "cell_type": "code",
   "execution_count": 68,
   "id": "e588a2c8",
   "metadata": {},
   "outputs": [
    {
     "data": {
      "text/plain": [
       "'WELCOME TO PYTHON CLASS'"
      ]
     },
     "execution_count": 68,
     "metadata": {},
     "output_type": "execute_result"
    }
   ],
   "source": [
    "str1.upper()"
   ]
  },
  {
   "cell_type": "code",
   "execution_count": 71,
   "id": "15f5fce5",
   "metadata": {},
   "outputs": [
    {
     "data": {
      "text/plain": [
       "'welcome to python class'"
      ]
     },
     "execution_count": 71,
     "metadata": {},
     "output_type": "execute_result"
    }
   ],
   "source": [
    "str1.lower()"
   ]
  },
  {
   "cell_type": "code",
   "execution_count": 72,
   "id": "039d418d",
   "metadata": {},
   "outputs": [
    {
     "data": {
      "text/plain": [
       "'Welcome to python class'"
      ]
     },
     "execution_count": 72,
     "metadata": {},
     "output_type": "execute_result"
    }
   ],
   "source": [
    "str1"
   ]
  },
  {
   "cell_type": "code",
   "execution_count": 73,
   "id": "514638fb",
   "metadata": {},
   "outputs": [
    {
     "data": {
      "text/plain": [
       "'Welcome to python class'"
      ]
     },
     "execution_count": 73,
     "metadata": {},
     "output_type": "execute_result"
    }
   ],
   "source": [
    "str1.capitalize()"
   ]
  },
  {
   "cell_type": "code",
   "execution_count": 74,
   "id": "13d4f0f8",
   "metadata": {},
   "outputs": [
    {
     "data": {
      "text/plain": [
       "'Welcome To Python Class'"
      ]
     },
     "execution_count": 74,
     "metadata": {},
     "output_type": "execute_result"
    }
   ],
   "source": [
    "str1.title()"
   ]
  },
  {
   "cell_type": "code",
   "execution_count": 75,
   "id": "8abf8faa",
   "metadata": {},
   "outputs": [],
   "source": [
    "str2='       sanjay         '"
   ]
  },
  {
   "cell_type": "code",
   "execution_count": 76,
   "id": "2cbc59c1",
   "metadata": {},
   "outputs": [
    {
     "data": {
      "text/plain": [
       "'sanjay'"
      ]
     },
     "execution_count": 76,
     "metadata": {},
     "output_type": "execute_result"
    }
   ],
   "source": [
    "str2.strip()"
   ]
  },
  {
   "cell_type": "code",
   "execution_count": 77,
   "id": "0ab5b56d",
   "metadata": {},
   "outputs": [
    {
     "data": {
      "text/plain": [
       "'sanjay         '"
      ]
     },
     "execution_count": 77,
     "metadata": {},
     "output_type": "execute_result"
    }
   ],
   "source": [
    "str2.lstrip()"
   ]
  },
  {
   "cell_type": "code",
   "execution_count": 78,
   "id": "89fcc991",
   "metadata": {},
   "outputs": [
    {
     "data": {
      "text/plain": [
       "'       sanjay'"
      ]
     },
     "execution_count": 78,
     "metadata": {},
     "output_type": "execute_result"
    }
   ],
   "source": [
    "str2.rstrip()"
   ]
  },
  {
   "cell_type": "code",
   "execution_count": 79,
   "id": "2d469644",
   "metadata": {},
   "outputs": [
    {
     "data": {
      "text/plain": [
       "'Welcome to python class'"
      ]
     },
     "execution_count": 79,
     "metadata": {},
     "output_type": "execute_result"
    }
   ],
   "source": [
    "str1"
   ]
  },
  {
   "cell_type": "code",
   "execution_count": 80,
   "id": "b397091b",
   "metadata": {},
   "outputs": [
    {
     "data": {
      "text/plain": [
       "23"
      ]
     },
     "execution_count": 80,
     "metadata": {},
     "output_type": "execute_result"
    }
   ],
   "source": [
    "len(str1)"
   ]
  },
  {
   "cell_type": "code",
   "execution_count": 81,
   "id": "a17afa0a",
   "metadata": {},
   "outputs": [],
   "source": [
    "str2= 'sanjay raheem suman'"
   ]
  },
  {
   "cell_type": "code",
   "execution_count": 82,
   "id": "204f8245",
   "metadata": {},
   "outputs": [
    {
     "data": {
      "text/plain": [
       "'sanjay raheem suman'"
      ]
     },
     "execution_count": 82,
     "metadata": {},
     "output_type": "execute_result"
    }
   ],
   "source": [
    "str2"
   ]
  },
  {
   "cell_type": "code",
   "execution_count": 84,
   "id": "89c55982",
   "metadata": {},
   "outputs": [],
   "source": [
    "str3=str2.split(' ')"
   ]
  },
  {
   "cell_type": "code",
   "execution_count": 85,
   "id": "33a03511",
   "metadata": {},
   "outputs": [
    {
     "data": {
      "text/plain": [
       "['sanjay', 'raheem', 'suman']"
      ]
     },
     "execution_count": 85,
     "metadata": {},
     "output_type": "execute_result"
    }
   ],
   "source": [
    "str3"
   ]
  },
  {
   "cell_type": "code",
   "execution_count": 86,
   "id": "b934ed16",
   "metadata": {},
   "outputs": [],
   "source": [
    "str4= 'This','is','Data','Science','Class'"
   ]
  },
  {
   "cell_type": "code",
   "execution_count": 88,
   "id": "f7b13a00",
   "metadata": {},
   "outputs": [
    {
     "data": {
      "text/plain": [
       "'This is Data Science Class'"
      ]
     },
     "execution_count": 88,
     "metadata": {},
     "output_type": "execute_result"
    }
   ],
   "source": [
    "' '.join(str4)"
   ]
  },
  {
   "cell_type": "code",
   "execution_count": 89,
   "id": "d0af44ea",
   "metadata": {},
   "outputs": [],
   "source": [
    "str2='sanjay'\n",
    "str3='kumar'"
   ]
  },
  {
   "cell_type": "code",
   "execution_count": 92,
   "id": "9b2b849c",
   "metadata": {},
   "outputs": [
    {
     "data": {
      "text/plain": [
       "'sanjay kumar'"
      ]
     },
     "execution_count": 92,
     "metadata": {},
     "output_type": "execute_result"
    }
   ],
   "source": [
    "## concat\n",
    "str2+' '+str3"
   ]
  },
  {
   "cell_type": "markdown",
   "id": "54b3eadb",
   "metadata": {},
   "source": [
    "### re(Regular Expression)"
   ]
  },
  {
   "cell_type": "code",
   "execution_count": 95,
   "id": "ac33a9c6",
   "metadata": {},
   "outputs": [],
   "source": [
    "import re"
   ]
  },
  {
   "cell_type": "code",
   "execution_count": 96,
   "id": "3cfd2238",
   "metadata": {},
   "outputs": [],
   "source": [
    "str1='Welcome to Python Programming class 6 Oct 2024&&*^%'"
   ]
  },
  {
   "cell_type": "code",
   "execution_count": 98,
   "id": "f598c1ec",
   "metadata": {},
   "outputs": [
    {
     "data": {
      "text/plain": [
       "[]"
      ]
     },
     "execution_count": 98,
     "metadata": {},
     "output_type": "execute_result"
    }
   ],
   "source": [
    "re.findall('java',str1)"
   ]
  },
  {
   "cell_type": "code",
   "execution_count": 99,
   "id": "4441ace2",
   "metadata": {},
   "outputs": [
    {
     "data": {
      "text/plain": [
       "<re.Match object; span=(11, 17), match='Python'>"
      ]
     },
     "execution_count": 99,
     "metadata": {},
     "output_type": "execute_result"
    }
   ],
   "source": [
    "re.search('Python',str1)"
   ]
  },
  {
   "cell_type": "code",
   "execution_count": 100,
   "id": "f9a01124",
   "metadata": {},
   "outputs": [
    {
     "data": {
      "text/plain": [
       "[' ', ' ', ' ', ' ', ' ', ' ', ' ']"
      ]
     },
     "execution_count": 100,
     "metadata": {},
     "output_type": "execute_result"
    }
   ],
   "source": [
    "## \\s-- extract only spaces\n",
    "re.findall('\\s',str1)"
   ]
  },
  {
   "cell_type": "code",
   "execution_count": 102,
   "id": "e94554c0",
   "metadata": {},
   "outputs": [
    {
     "data": {
      "text/plain": [
       "['Welcome', 'to', 'Python', 'Programming', 'class', '6', 'Oct', '2024&&*^%']"
      ]
     },
     "execution_count": 102,
     "metadata": {},
     "output_type": "execute_result"
    }
   ],
   "source": [
    "##\\S--extract except spaces\n",
    "re.findall('\\S+',str1)"
   ]
  },
  {
   "cell_type": "code",
   "execution_count": 103,
   "id": "6922c213",
   "metadata": {},
   "outputs": [
    {
     "data": {
      "text/plain": [
       "['6', '2024']"
      ]
     },
     "execution_count": 103,
     "metadata": {},
     "output_type": "execute_result"
    }
   ],
   "source": [
    "##\\d--extract only decimals\n",
    "re.findall('\\d+',str1)"
   ]
  },
  {
   "cell_type": "code",
   "execution_count": 104,
   "id": "019a0204",
   "metadata": {},
   "outputs": [
    {
     "data": {
      "text/plain": [
       "['Welcome to Python Programming class ', ' Oct ', '&&*^%']"
      ]
     },
     "execution_count": 104,
     "metadata": {},
     "output_type": "execute_result"
    }
   ],
   "source": [
    "## \\D-- extract except decimals\n",
    "re.findall('\\D+',str1)"
   ]
  },
  {
   "cell_type": "code",
   "execution_count": 106,
   "id": "87bf525b",
   "metadata": {},
   "outputs": [
    {
     "data": {
      "text/plain": [
       "['Welcome', 'to', 'Python', 'Programming', 'class', '6', 'Oct', '2024']"
      ]
     },
     "execution_count": 106,
     "metadata": {},
     "output_type": "execute_result"
    }
   ],
   "source": [
    "## \\w-- extract except spaces and Non-alphanumeric\n",
    "re.findall('\\w+',str1)"
   ]
  },
  {
   "cell_type": "code",
   "execution_count": 107,
   "id": "3cfdbc9f",
   "metadata": {},
   "outputs": [
    {
     "data": {
      "text/plain": [
       "[' ', ' ', ' ', ' ', ' ', ' ', ' ', '&&*^%']"
      ]
     },
     "execution_count": 107,
     "metadata": {},
     "output_type": "execute_result"
    }
   ],
   "source": [
    "## \\w-- extract  spaces and Non-alphanumeric\n",
    "re.findall('\\W+',str1)"
   ]
  },
  {
   "cell_type": "code",
   "execution_count": 108,
   "id": "ed97241c",
   "metadata": {},
   "outputs": [],
   "source": [
    "import warnings\n",
    "warnings.filterwarnings('ignore')"
   ]
  },
  {
   "cell_type": "markdown",
   "id": "979cc14c",
   "metadata": {},
   "source": [
    "## Data Structures"
   ]
  },
  {
   "cell_type": "code",
   "execution_count": 109,
   "id": "dd24b85b",
   "metadata": {},
   "outputs": [],
   "source": [
    "list1= [20,4,5,6,8,10,20,30,60]"
   ]
  },
  {
   "cell_type": "code",
   "execution_count": 110,
   "id": "f29f1d5e",
   "metadata": {},
   "outputs": [
    {
     "data": {
      "text/plain": [
       "list"
      ]
     },
     "execution_count": 110,
     "metadata": {},
     "output_type": "execute_result"
    }
   ],
   "source": [
    "type(list1)"
   ]
  },
  {
   "cell_type": "code",
   "execution_count": 113,
   "id": "1998c98c",
   "metadata": {},
   "outputs": [
    {
     "data": {
      "text/plain": [
       "60"
      ]
     },
     "execution_count": 113,
     "metadata": {},
     "output_type": "execute_result"
    }
   ],
   "source": [
    "max(list1)"
   ]
  },
  {
   "cell_type": "code",
   "execution_count": 114,
   "id": "40bccf8d",
   "metadata": {},
   "outputs": [
    {
     "data": {
      "text/plain": [
       "4"
      ]
     },
     "execution_count": 114,
     "metadata": {},
     "output_type": "execute_result"
    }
   ],
   "source": [
    "min(list1)"
   ]
  },
  {
   "cell_type": "code",
   "execution_count": 115,
   "id": "75d2091c",
   "metadata": {},
   "outputs": [
    {
     "data": {
      "text/plain": [
       "163"
      ]
     },
     "execution_count": 115,
     "metadata": {},
     "output_type": "execute_result"
    }
   ],
   "source": [
    "sum(list1)"
   ]
  },
  {
   "cell_type": "code",
   "execution_count": 116,
   "id": "db2a858b",
   "metadata": {},
   "outputs": [
    {
     "data": {
      "text/plain": [
       "9"
      ]
     },
     "execution_count": 116,
     "metadata": {},
     "output_type": "execute_result"
    }
   ],
   "source": [
    "len(list1)"
   ]
  },
  {
   "cell_type": "code",
   "execution_count": 117,
   "id": "a3d4f45c",
   "metadata": {},
   "outputs": [
    {
     "data": {
      "text/plain": [
       "6"
      ]
     },
     "execution_count": 117,
     "metadata": {},
     "output_type": "execute_result"
    }
   ],
   "source": [
    "list1[3]"
   ]
  },
  {
   "cell_type": "code",
   "execution_count": 118,
   "id": "72ace734",
   "metadata": {},
   "outputs": [
    {
     "data": {
      "text/plain": [
       "[6, 8, 10, 20]"
      ]
     },
     "execution_count": 118,
     "metadata": {},
     "output_type": "execute_result"
    }
   ],
   "source": [
    "list1[3:7]"
   ]
  },
  {
   "cell_type": "code",
   "execution_count": 119,
   "id": "cfad5910",
   "metadata": {},
   "outputs": [
    {
     "data": {
      "text/plain": [
       "[20, 4, 5, 6, 8, 10, 20, 30, 60]"
      ]
     },
     "execution_count": 119,
     "metadata": {},
     "output_type": "execute_result"
    }
   ],
   "source": [
    "list1"
   ]
  },
  {
   "cell_type": "code",
   "execution_count": 121,
   "id": "c929b34a",
   "metadata": {},
   "outputs": [],
   "source": [
    "list1[3]=60"
   ]
  },
  {
   "cell_type": "code",
   "execution_count": 122,
   "id": "773488a2",
   "metadata": {},
   "outputs": [
    {
     "data": {
      "text/plain": [
       "[20, 4, 5, 60, 8, 10, 20, 30, 60]"
      ]
     },
     "execution_count": 122,
     "metadata": {},
     "output_type": "execute_result"
    }
   ],
   "source": [
    "list1"
   ]
  },
  {
   "cell_type": "code",
   "execution_count": 125,
   "id": "a19c9675",
   "metadata": {},
   "outputs": [],
   "source": [
    "list1.append(100)"
   ]
  },
  {
   "cell_type": "code",
   "execution_count": 126,
   "id": "ea4cd61e",
   "metadata": {},
   "outputs": [
    {
     "data": {
      "text/plain": [
       "[20, 4, 5, 60, 8, 10, 20, 30, 60, 100, 100]"
      ]
     },
     "execution_count": 126,
     "metadata": {},
     "output_type": "execute_result"
    }
   ],
   "source": [
    "list1"
   ]
  },
  {
   "cell_type": "code",
   "execution_count": 127,
   "id": "e2357c9c",
   "metadata": {},
   "outputs": [],
   "source": [
    "list1.insert(4,50)"
   ]
  },
  {
   "cell_type": "code",
   "execution_count": 128,
   "id": "9dcd0603",
   "metadata": {},
   "outputs": [
    {
     "data": {
      "text/plain": [
       "[20, 4, 5, 60, 50, 8, 10, 20, 30, 60, 100, 100]"
      ]
     },
     "execution_count": 128,
     "metadata": {},
     "output_type": "execute_result"
    }
   ],
   "source": [
    "list1"
   ]
  },
  {
   "cell_type": "code",
   "execution_count": 129,
   "id": "f728c461",
   "metadata": {},
   "outputs": [],
   "source": [
    "list1.remove(100)"
   ]
  },
  {
   "cell_type": "code",
   "execution_count": 130,
   "id": "f4dbdfae",
   "metadata": {},
   "outputs": [
    {
     "data": {
      "text/plain": [
       "[20, 4, 5, 60, 50, 8, 10, 20, 30, 60, 100]"
      ]
     },
     "execution_count": 130,
     "metadata": {},
     "output_type": "execute_result"
    }
   ],
   "source": [
    "list1"
   ]
  },
  {
   "cell_type": "code",
   "execution_count": 132,
   "id": "41926b2c",
   "metadata": {},
   "outputs": [
    {
     "data": {
      "text/plain": [
       "20"
      ]
     },
     "execution_count": 132,
     "metadata": {},
     "output_type": "execute_result"
    }
   ],
   "source": [
    "list1.pop(7)"
   ]
  },
  {
   "cell_type": "code",
   "execution_count": 133,
   "id": "7bf3594e",
   "metadata": {},
   "outputs": [
    {
     "data": {
      "text/plain": [
       "[20, 4, 5, 60, 50, 8, 10, 30, 60, 100]"
      ]
     },
     "execution_count": 133,
     "metadata": {},
     "output_type": "execute_result"
    }
   ],
   "source": [
    "list1"
   ]
  },
  {
   "cell_type": "code",
   "execution_count": 134,
   "id": "8d323055",
   "metadata": {},
   "outputs": [],
   "source": [
    "list1.sort()"
   ]
  },
  {
   "cell_type": "code",
   "execution_count": 135,
   "id": "31d4f140",
   "metadata": {},
   "outputs": [
    {
     "data": {
      "text/plain": [
       "[4, 5, 8, 10, 20, 30, 50, 60, 60, 100]"
      ]
     },
     "execution_count": 135,
     "metadata": {},
     "output_type": "execute_result"
    }
   ],
   "source": [
    "list1"
   ]
  },
  {
   "cell_type": "code",
   "execution_count": 136,
   "id": "c07ea812",
   "metadata": {},
   "outputs": [],
   "source": [
    "list1.sort(reverse=True)"
   ]
  },
  {
   "cell_type": "code",
   "execution_count": 137,
   "id": "1d3f1b55",
   "metadata": {},
   "outputs": [
    {
     "data": {
      "text/plain": [
       "[100, 60, 60, 50, 30, 20, 10, 8, 5, 4]"
      ]
     },
     "execution_count": 137,
     "metadata": {},
     "output_type": "execute_result"
    }
   ],
   "source": [
    "list1"
   ]
  },
  {
   "cell_type": "code",
   "execution_count": 145,
   "id": "05f33166",
   "metadata": {},
   "outputs": [
    {
     "data": {
      "text/plain": [
       "1"
      ]
     },
     "execution_count": 145,
     "metadata": {},
     "output_type": "execute_result"
    }
   ],
   "source": [
    "list1.index(60)"
   ]
  },
  {
   "cell_type": "code",
   "execution_count": 138,
   "id": "d30d5990",
   "metadata": {},
   "outputs": [],
   "source": [
    "## tuple\n",
    "tuple1=(2,4,5,10,30,50,60)"
   ]
  },
  {
   "cell_type": "code",
   "execution_count": 139,
   "id": "5d01c18b",
   "metadata": {},
   "outputs": [
    {
     "data": {
      "text/plain": [
       "tuple"
      ]
     },
     "execution_count": 139,
     "metadata": {},
     "output_type": "execute_result"
    }
   ],
   "source": [
    "type(tuple1)"
   ]
  },
  {
   "cell_type": "code",
   "execution_count": 140,
   "id": "e50835f7",
   "metadata": {},
   "outputs": [
    {
     "data": {
      "text/plain": [
       "3"
      ]
     },
     "execution_count": 140,
     "metadata": {},
     "output_type": "execute_result"
    }
   ],
   "source": [
    "tuple1.index(10)"
   ]
  },
  {
   "cell_type": "code",
   "execution_count": 143,
   "id": "a7d8b389",
   "metadata": {},
   "outputs": [
    {
     "ename": "TypeError",
     "evalue": "'tuple' object does not support item assignment",
     "output_type": "error",
     "traceback": [
      "\u001b[1;31m---------------------------------------------------------------------------\u001b[0m",
      "\u001b[1;31mTypeError\u001b[0m                                 Traceback (most recent call last)",
      "Cell \u001b[1;32mIn[143], line 1\u001b[0m\n\u001b[1;32m----> 1\u001b[0m tuple1[\u001b[38;5;241m3\u001b[39m]\u001b[38;5;241m=\u001b[39m\u001b[38;5;241m100\u001b[39m\n",
      "\u001b[1;31mTypeError\u001b[0m: 'tuple' object does not support item assignment"
     ]
    }
   ],
   "source": [
    "tuple1[3]=100"
   ]
  },
  {
   "cell_type": "code",
   "execution_count": 144,
   "id": "61f27d23",
   "metadata": {},
   "outputs": [
    {
     "data": {
      "text/plain": [
       "50"
      ]
     },
     "execution_count": 144,
     "metadata": {},
     "output_type": "execute_result"
    }
   ],
   "source": [
    "tuple1[5]"
   ]
  },
  {
   "cell_type": "code",
   "execution_count": 146,
   "id": "9ab4dc4a",
   "metadata": {},
   "outputs": [],
   "source": [
    "## Sets"
   ]
  },
  {
   "cell_type": "code",
   "execution_count": 147,
   "id": "3ecd80e8",
   "metadata": {},
   "outputs": [],
   "source": [
    "set1={2,3,10,9,6,7,7,50,100}"
   ]
  },
  {
   "cell_type": "code",
   "execution_count": 148,
   "id": "44ab69fe",
   "metadata": {},
   "outputs": [
    {
     "data": {
      "text/plain": [
       "set"
      ]
     },
     "execution_count": 148,
     "metadata": {},
     "output_type": "execute_result"
    }
   ],
   "source": [
    "type(set1)"
   ]
  },
  {
   "cell_type": "code",
   "execution_count": 149,
   "id": "33212c30",
   "metadata": {},
   "outputs": [
    {
     "data": {
      "text/plain": [
       "{2, 3, 6, 7, 9, 10, 50, 100}"
      ]
     },
     "execution_count": 149,
     "metadata": {},
     "output_type": "execute_result"
    }
   ],
   "source": [
    "set1"
   ]
  },
  {
   "cell_type": "code",
   "execution_count": 150,
   "id": "761f239a",
   "metadata": {},
   "outputs": [],
   "source": [
    "set1.add(70)"
   ]
  },
  {
   "cell_type": "code",
   "execution_count": 151,
   "id": "75f89cf8",
   "metadata": {},
   "outputs": [
    {
     "data": {
      "text/plain": [
       "{2, 3, 6, 7, 9, 10, 50, 70, 100}"
      ]
     },
     "execution_count": 151,
     "metadata": {},
     "output_type": "execute_result"
    }
   ],
   "source": [
    "set1"
   ]
  },
  {
   "cell_type": "code",
   "execution_count": 152,
   "id": "90631a24",
   "metadata": {},
   "outputs": [],
   "source": [
    "set1.remove(70)"
   ]
  },
  {
   "cell_type": "code",
   "execution_count": 153,
   "id": "4cbf1a5c",
   "metadata": {},
   "outputs": [
    {
     "data": {
      "text/plain": [
       "{2, 3, 6, 7, 9, 10, 50, 100}"
      ]
     },
     "execution_count": 153,
     "metadata": {},
     "output_type": "execute_result"
    }
   ],
   "source": [
    "set1"
   ]
  },
  {
   "cell_type": "code",
   "execution_count": 154,
   "id": "6cbdbad0",
   "metadata": {},
   "outputs": [],
   "source": [
    "set2= set1.copy()"
   ]
  },
  {
   "cell_type": "code",
   "execution_count": 155,
   "id": "20a76415",
   "metadata": {},
   "outputs": [
    {
     "data": {
      "text/plain": [
       "{2, 3, 6, 7, 9, 10, 50, 100}"
      ]
     },
     "execution_count": 155,
     "metadata": {},
     "output_type": "execute_result"
    }
   ],
   "source": [
    "set2"
   ]
  },
  {
   "cell_type": "code",
   "execution_count": 156,
   "id": "be714085",
   "metadata": {},
   "outputs": [
    {
     "data": {
      "text/plain": [
       "{2, 3, 6, 7, 9, 10, 50, 100}"
      ]
     },
     "execution_count": 156,
     "metadata": {},
     "output_type": "execute_result"
    }
   ],
   "source": [
    "set1"
   ]
  },
  {
   "cell_type": "code",
   "execution_count": 157,
   "id": "0a3cf0f3",
   "metadata": {},
   "outputs": [],
   "source": [
    "set1.add(70)"
   ]
  },
  {
   "cell_type": "code",
   "execution_count": 158,
   "id": "33613d8a",
   "metadata": {},
   "outputs": [],
   "source": [
    "set1.add(90)"
   ]
  },
  {
   "cell_type": "code",
   "execution_count": 159,
   "id": "6c3eef08",
   "metadata": {},
   "outputs": [
    {
     "data": {
      "text/plain": [
       "{2, 3, 6, 7, 9, 10, 50, 70, 90, 100}"
      ]
     },
     "execution_count": 159,
     "metadata": {},
     "output_type": "execute_result"
    }
   ],
   "source": [
    "set1"
   ]
  },
  {
   "cell_type": "code",
   "execution_count": 160,
   "id": "b2ca66dc",
   "metadata": {},
   "outputs": [
    {
     "data": {
      "text/plain": [
       "{2, 3, 6, 7, 9, 10, 50, 100}"
      ]
     },
     "execution_count": 160,
     "metadata": {},
     "output_type": "execute_result"
    }
   ],
   "source": [
    "set2"
   ]
  },
  {
   "cell_type": "code",
   "execution_count": 161,
   "id": "a023282d",
   "metadata": {},
   "outputs": [
    {
     "data": {
      "text/plain": [
       "{2, 3, 6, 7, 9, 10, 50, 70, 90, 100}"
      ]
     },
     "execution_count": 161,
     "metadata": {},
     "output_type": "execute_result"
    }
   ],
   "source": [
    "set1.union(set2)"
   ]
  },
  {
   "cell_type": "code",
   "execution_count": 162,
   "id": "1c6510b8",
   "metadata": {},
   "outputs": [
    {
     "data": {
      "text/plain": [
       "{2, 3, 6, 7, 9, 10, 50, 100}"
      ]
     },
     "execution_count": 162,
     "metadata": {},
     "output_type": "execute_result"
    }
   ],
   "source": [
    "set1.intersection(set2)"
   ]
  },
  {
   "cell_type": "code",
   "execution_count": 163,
   "id": "0e6b7945",
   "metadata": {},
   "outputs": [
    {
     "data": {
      "text/plain": [
       "{2, 3, 6, 7, 9, 10, 50, 100}"
      ]
     },
     "execution_count": 163,
     "metadata": {},
     "output_type": "execute_result"
    }
   ],
   "source": [
    "## intersection\n",
    "set1 & set2"
   ]
  },
  {
   "cell_type": "code",
   "execution_count": 166,
   "id": "5e1953d7",
   "metadata": {},
   "outputs": [
    {
     "data": {
      "text/plain": [
       "{2, 3, 6, 7, 9, 10, 50, 70, 90, 100}"
      ]
     },
     "execution_count": 166,
     "metadata": {},
     "output_type": "execute_result"
    }
   ],
   "source": [
    "## union\n",
    "set1 | set2"
   ]
  },
  {
   "cell_type": "code",
   "execution_count": 167,
   "id": "fe0837d2",
   "metadata": {},
   "outputs": [
    {
     "data": {
      "text/plain": [
       "{70, 90}"
      ]
     },
     "execution_count": 167,
     "metadata": {},
     "output_type": "execute_result"
    }
   ],
   "source": [
    "## Difference\n",
    "set1.difference(set2)"
   ]
  },
  {
   "cell_type": "code",
   "execution_count": 169,
   "id": "2fbce2d8",
   "metadata": {},
   "outputs": [
    {
     "data": {
      "text/plain": [
       "{70, 90}"
      ]
     },
     "execution_count": 169,
     "metadata": {},
     "output_type": "execute_result"
    }
   ],
   "source": [
    "## Difference\n",
    "set1-set2"
   ]
  },
  {
   "cell_type": "code",
   "execution_count": 170,
   "id": "c826e520",
   "metadata": {},
   "outputs": [
    {
     "data": {
      "text/plain": [
       "{2, 3, 6, 7, 9, 10, 50, 70, 90, 100}"
      ]
     },
     "execution_count": 170,
     "metadata": {},
     "output_type": "execute_result"
    }
   ],
   "source": [
    "set1"
   ]
  },
  {
   "cell_type": "code",
   "execution_count": 171,
   "id": "18501481",
   "metadata": {},
   "outputs": [
    {
     "data": {
      "text/plain": [
       "{2, 3, 6, 7, 9, 10, 50, 100}"
      ]
     },
     "execution_count": 171,
     "metadata": {},
     "output_type": "execute_result"
    }
   ],
   "source": [
    "set2"
   ]
  },
  {
   "cell_type": "code",
   "execution_count": 172,
   "id": "8a43bde8",
   "metadata": {},
   "outputs": [
    {
     "data": {
      "text/plain": [
       "True"
      ]
     },
     "execution_count": 172,
     "metadata": {},
     "output_type": "execute_result"
    }
   ],
   "source": [
    "set1.issuperset(set2)"
   ]
  },
  {
   "cell_type": "code",
   "execution_count": 173,
   "id": "d88f14e5",
   "metadata": {},
   "outputs": [
    {
     "data": {
      "text/plain": [
       "True"
      ]
     },
     "execution_count": 173,
     "metadata": {},
     "output_type": "execute_result"
    }
   ],
   "source": [
    "set2.issubset(set1)"
   ]
  },
  {
   "cell_type": "markdown",
   "id": "38ec4d53",
   "metadata": {},
   "source": [
    "## Dictionaries"
   ]
  },
  {
   "cell_type": "code",
   "execution_count": 177,
   "id": "cd6a0a67",
   "metadata": {},
   "outputs": [],
   "source": [
    "dict1= {'Name':['ajay','sanjay','ramya'],'age':[22,23,25],'Gender':['Male','Male','Female']}"
   ]
  },
  {
   "cell_type": "code",
   "execution_count": 178,
   "id": "771acab2",
   "metadata": {},
   "outputs": [
    {
     "data": {
      "text/plain": [
       "{'Name': ['ajay', 'sanjay', 'ramya'],\n",
       " 'age': [22, 23, 25],\n",
       " 'Gender': ['Male', 'Male', 'Female']}"
      ]
     },
     "execution_count": 178,
     "metadata": {},
     "output_type": "execute_result"
    }
   ],
   "source": [
    "dict1"
   ]
  },
  {
   "cell_type": "code",
   "execution_count": 179,
   "id": "4d50cff4",
   "metadata": {},
   "outputs": [
    {
     "data": {
      "text/plain": [
       "dict"
      ]
     },
     "execution_count": 179,
     "metadata": {},
     "output_type": "execute_result"
    }
   ],
   "source": [
    "type(dict1)"
   ]
  },
  {
   "cell_type": "code",
   "execution_count": 182,
   "id": "1d88f4b9",
   "metadata": {},
   "outputs": [],
   "source": [
    "dict1['location']=['Bengaluru','Chennai','Mumbai']"
   ]
  },
  {
   "cell_type": "code",
   "execution_count": 183,
   "id": "7b7c5903",
   "metadata": {},
   "outputs": [
    {
     "data": {
      "text/plain": [
       "{'Name': ['ajay', 'sanjay', 'ramya'],\n",
       " 'age': [22, 23, 25],\n",
       " 'Gender': ['Male', 'Male', 'Female'],\n",
       " 'location': ['Bengaluru', 'Chennai', 'Mumbai']}"
      ]
     },
     "execution_count": 183,
     "metadata": {},
     "output_type": "execute_result"
    }
   ],
   "source": [
    "dict1"
   ]
  },
  {
   "cell_type": "code",
   "execution_count": 184,
   "id": "9d5d6397",
   "metadata": {},
   "outputs": [
    {
     "data": {
      "text/plain": [
       "dict_keys(['Name', 'age', 'Gender', 'location'])"
      ]
     },
     "execution_count": 184,
     "metadata": {},
     "output_type": "execute_result"
    }
   ],
   "source": [
    "dict1.keys()"
   ]
  },
  {
   "cell_type": "code",
   "execution_count": 185,
   "id": "98954ae0",
   "metadata": {},
   "outputs": [
    {
     "data": {
      "text/plain": [
       "dict_values([['ajay', 'sanjay', 'ramya'], [22, 23, 25], ['Male', 'Male', 'Female'], ['Bengaluru', 'Chennai', 'Mumbai']])"
      ]
     },
     "execution_count": 185,
     "metadata": {},
     "output_type": "execute_result"
    }
   ],
   "source": [
    "dict1.values()"
   ]
  },
  {
   "cell_type": "code",
   "execution_count": 186,
   "id": "830ceb39",
   "metadata": {},
   "outputs": [
    {
     "data": {
      "text/plain": [
       "dict_items([('Name', ['ajay', 'sanjay', 'ramya']), ('age', [22, 23, 25]), ('Gender', ['Male', 'Male', 'Female']), ('location', ['Bengaluru', 'Chennai', 'Mumbai'])])"
      ]
     },
     "execution_count": 186,
     "metadata": {},
     "output_type": "execute_result"
    }
   ],
   "source": [
    "dict1.items()"
   ]
  },
  {
   "cell_type": "code",
   "execution_count": 190,
   "id": "248ab53d",
   "metadata": {},
   "outputs": [
    {
     "data": {
      "text/plain": [
       "['Male', 'Male', 'Female']"
      ]
     },
     "execution_count": 190,
     "metadata": {},
     "output_type": "execute_result"
    }
   ],
   "source": [
    "dict1.get('Gender')"
   ]
  },
  {
   "cell_type": "code",
   "execution_count": 191,
   "id": "25793581",
   "metadata": {},
   "outputs": [
    {
     "data": {
      "text/plain": [
       "{'Name': ['ajay', 'sanjay', 'ramya'],\n",
       " 'age': [22, 23, 25],\n",
       " 'Gender': ['Male', 'Male', 'Female'],\n",
       " 'location': ['Bengaluru', 'Chennai', 'Mumbai']}"
      ]
     },
     "execution_count": 191,
     "metadata": {},
     "output_type": "execute_result"
    }
   ],
   "source": [
    "dict1"
   ]
  },
  {
   "cell_type": "code",
   "execution_count": 192,
   "id": "aeeb1f01",
   "metadata": {},
   "outputs": [],
   "source": [
    "dict2= dict1.copy()"
   ]
  },
  {
   "cell_type": "code",
   "execution_count": 193,
   "id": "d18bdf65",
   "metadata": {},
   "outputs": [
    {
     "data": {
      "text/plain": [
       "{'Name': ['ajay', 'sanjay', 'ramya'],\n",
       " 'age': [22, 23, 25],\n",
       " 'Gender': ['Male', 'Male', 'Female'],\n",
       " 'location': ['Bengaluru', 'Chennai', 'Mumbai']}"
      ]
     },
     "execution_count": 193,
     "metadata": {},
     "output_type": "execute_result"
    }
   ],
   "source": [
    "dict2"
   ]
  },
  {
   "cell_type": "code",
   "execution_count": 194,
   "id": "4fb54d3d",
   "metadata": {},
   "outputs": [
    {
     "data": {
      "text/plain": [
       "['Bengaluru', 'Chennai', 'Mumbai']"
      ]
     },
     "execution_count": 194,
     "metadata": {},
     "output_type": "execute_result"
    }
   ],
   "source": [
    "dict1.pop('location')"
   ]
  },
  {
   "cell_type": "code",
   "execution_count": 195,
   "id": "e5d0ee57",
   "metadata": {},
   "outputs": [
    {
     "data": {
      "text/plain": [
       "{'Name': ['ajay', 'sanjay', 'ramya'],\n",
       " 'age': [22, 23, 25],\n",
       " 'Gender': ['Male', 'Male', 'Female']}"
      ]
     },
     "execution_count": 195,
     "metadata": {},
     "output_type": "execute_result"
    }
   ],
   "source": [
    "dict1"
   ]
  },
  {
   "cell_type": "code",
   "execution_count": 196,
   "id": "6b00f637",
   "metadata": {},
   "outputs": [
    {
     "data": {
      "text/plain": [
       "('Gender', ['Male', 'Male', 'Female'])"
      ]
     },
     "execution_count": 196,
     "metadata": {},
     "output_type": "execute_result"
    }
   ],
   "source": [
    "dict1.popitem()"
   ]
  },
  {
   "cell_type": "code",
   "execution_count": 197,
   "id": "50691ac6",
   "metadata": {},
   "outputs": [
    {
     "data": {
      "text/plain": [
       "{'Name': ['ajay', 'sanjay', 'ramya'], 'age': [22, 23, 25]}"
      ]
     },
     "execution_count": 197,
     "metadata": {},
     "output_type": "execute_result"
    }
   ],
   "source": [
    "dict1"
   ]
  },
  {
   "cell_type": "markdown",
   "id": "6bea62d6",
   "metadata": {},
   "source": [
    "## Input Functions"
   ]
  },
  {
   "cell_type": "code",
   "execution_count": 200,
   "id": "ab4065b5",
   "metadata": {},
   "outputs": [
    {
     "name": "stdout",
     "output_type": "stream",
     "text": [
      "Enter your Name: Sanjay Kumar\n",
      "hai , Sanjay Kumar\n"
     ]
    }
   ],
   "source": [
    "name=input('Enter your Name: ')\n",
    "print('hai ,',name)"
   ]
  },
  {
   "cell_type": "code",
   "execution_count": 207,
   "id": "20fca6af",
   "metadata": {},
   "outputs": [
    {
     "name": "stdout",
     "output_type": "stream",
     "text": [
      "Enter the First Number30\n",
      "Enter the Second Number44\n",
      "Summation of the Numbers is: 74\n"
     ]
    }
   ],
   "source": [
    "num1= int(input('Enter the First Number'))\n",
    "num2= int(input('Enter the Second Number'))\n",
    "result= num1+num2\n",
    "print('Summation of the Numbers is:',result)"
   ]
  },
  {
   "cell_type": "code",
   "execution_count": 209,
   "id": "9aaacff1",
   "metadata": {},
   "outputs": [
    {
     "name": "stdout",
     "output_type": "stream",
     "text": [
      "Enter the radius: 2.5\n",
      "The Area of the Circle is:  19.63\n"
     ]
    }
   ],
   "source": [
    "## Area of the Circle\n",
    "Radius= float(input('Enter the radius: '))\n",
    "Area= math.pi*Radius**2\n",
    "print('The Area of the Circle is: ',round(Area,2))"
   ]
  },
  {
   "cell_type": "code",
   "execution_count": 210,
   "id": "a7afb170",
   "metadata": {},
   "outputs": [],
   "source": [
    "name='ajay'\n",
    "age=22\n",
    "profession='engineer'"
   ]
  },
  {
   "cell_type": "code",
   "execution_count": 211,
   "id": "e593c5d8",
   "metadata": {},
   "outputs": [
    {
     "name": "stdout",
     "output_type": "stream",
     "text": [
      "ajay is 22 years old and he is an engineer\n"
     ]
    }
   ],
   "source": [
    "print(name,'is',age,'years old and he is an',profession)"
   ]
  },
  {
   "cell_type": "code",
   "execution_count": 213,
   "id": "d1f898bd",
   "metadata": {},
   "outputs": [
    {
     "name": "stdout",
     "output_type": "stream",
     "text": [
      "ajay is 22 years old and he is an engineer\n"
     ]
    }
   ],
   "source": [
    "## f--format\n",
    "print(f'{name} is {age} years old and he is an {profession}')"
   ]
  },
  {
   "cell_type": "code",
   "execution_count": null,
   "id": "1c11351e",
   "metadata": {},
   "outputs": [],
   "source": []
  }
 ],
 "metadata": {
  "kernelspec": {
   "display_name": "Python 3 (ipykernel)",
   "language": "python",
   "name": "python3"
  },
  "language_info": {
   "codemirror_mode": {
    "name": "ipython",
    "version": 3
   },
   "file_extension": ".py",
   "mimetype": "text/x-python",
   "name": "python",
   "nbconvert_exporter": "python",
   "pygments_lexer": "ipython3",
   "version": "3.11.5"
  }
 },
 "nbformat": 4,
 "nbformat_minor": 5
}
