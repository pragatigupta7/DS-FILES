{
 "cells": [
  {
   "cell_type": "markdown",
   "id": "990a959e",
   "metadata": {},
   "source": [
    "### Loops"
   ]
  },
  {
   "cell_type": "code",
   "execution_count": 11,
   "id": "383edae9",
   "metadata": {},
   "outputs": [],
   "source": [
    "list1=[10,20,45,90,100]"
   ]
  },
  {
   "cell_type": "code",
   "execution_count": 2,
   "id": "9c679173",
   "metadata": {},
   "outputs": [
    {
     "name": "stdout",
     "output_type": "stream",
     "text": [
      "10\n",
      "20\n",
      "45\n",
      "90\n",
      "100\n"
     ]
    }
   ],
   "source": [
    "for i in list1:\n",
    "    print(i)"
   ]
  },
  {
   "cell_type": "code",
   "execution_count": 3,
   "id": "f11ed263",
   "metadata": {},
   "outputs": [
    {
     "data": {
      "text/plain": [
       "range(2, 8)"
      ]
     },
     "execution_count": 3,
     "metadata": {},
     "output_type": "execute_result"
    }
   ],
   "source": [
    "range(2,8)"
   ]
  },
  {
   "cell_type": "code",
   "execution_count": 5,
   "id": "0030fb3f",
   "metadata": {},
   "outputs": [
    {
     "name": "stdout",
     "output_type": "stream",
     "text": [
      "2\n",
      "4\n",
      "6\n"
     ]
    }
   ],
   "source": [
    "for i in range(2,8,2):\n",
    "    print(i)"
   ]
  },
  {
   "cell_type": "code",
   "execution_count": 6,
   "id": "ebe2b6c6",
   "metadata": {},
   "outputs": [
    {
     "name": "stdout",
     "output_type": "stream",
     "text": [
      "10\n",
      "20\n",
      "30\n"
     ]
    }
   ],
   "source": [
    "for i in (10,20,30):\n",
    "    print(i)"
   ]
  },
  {
   "cell_type": "code",
   "execution_count": 41,
   "id": "296260a4",
   "metadata": {},
   "outputs": [
    {
     "name": "stdout",
     "output_type": "stream",
     "text": [
      "3\n",
      "20\n",
      "4\n"
     ]
    }
   ],
   "source": [
    "for i in {3,20,4}:\n",
    "    print(i)"
   ]
  },
  {
   "cell_type": "code",
   "execution_count": 31,
   "id": "fcfa29a7",
   "metadata": {},
   "outputs": [
    {
     "data": {
      "text/plain": [
       "{3, 9, 10, 12}"
      ]
     },
     "execution_count": 31,
     "metadata": {},
     "output_type": "execute_result"
    }
   ],
   "source": [
    "{12,9,3,10}"
   ]
  },
  {
   "cell_type": "code",
   "execution_count": 42,
   "id": "197458fa",
   "metadata": {},
   "outputs": [
    {
     "data": {
      "text/plain": [
       "[10, 20, 45, 90, 100]"
      ]
     },
     "execution_count": 42,
     "metadata": {},
     "output_type": "execute_result"
    }
   ],
   "source": [
    "list1"
   ]
  },
  {
   "cell_type": "code",
   "execution_count": 46,
   "id": "9ff87832",
   "metadata": {},
   "outputs": [
    {
     "data": {
      "text/plain": [
       "[20, 40, 90, 180, 200]"
      ]
     },
     "execution_count": 46,
     "metadata": {},
     "output_type": "execute_result"
    }
   ],
   "source": [
    "# List Comprehension\n",
    "[i*2 for i in list1]"
   ]
  },
  {
   "cell_type": "code",
   "execution_count": 47,
   "id": "0be0c0a3",
   "metadata": {},
   "outputs": [
    {
     "data": {
      "text/plain": [
       "[12, 22, 47, 92, 102]"
      ]
     },
     "execution_count": 47,
     "metadata": {},
     "output_type": "execute_result"
    }
   ],
   "source": [
    "[i+2 for i in list1]"
   ]
  },
  {
   "cell_type": "code",
   "execution_count": 48,
   "id": "3aa9f4bf",
   "metadata": {},
   "outputs": [
    {
     "data": {
      "text/plain": [
       "[8, 18, 43, 88, 98]"
      ]
     },
     "execution_count": 48,
     "metadata": {},
     "output_type": "execute_result"
    }
   ],
   "source": [
    "[i-2 for i in list1]"
   ]
  },
  {
   "cell_type": "markdown",
   "id": "ba1583aa",
   "metadata": {},
   "source": [
    "## while loop"
   ]
  },
  {
   "cell_type": "code",
   "execution_count": 3,
   "id": "5cb4917f",
   "metadata": {},
   "outputs": [
    {
     "name": "stdout",
     "output_type": "stream",
     "text": [
      "1\n",
      "3\n",
      "6\n",
      "10\n"
     ]
    }
   ],
   "source": [
    "i=1\n",
    "n=5\n",
    "sum1=0\n",
    "while(i<n):\n",
    "    sum1= sum1+i\n",
    "    print(sum1)\n",
    "    i+=1"
   ]
  },
  {
   "cell_type": "code",
   "execution_count": 4,
   "id": "6056a596",
   "metadata": {},
   "outputs": [
    {
     "name": "stdout",
     "output_type": "stream",
     "text": [
      "counter is inside the loop\n",
      "counter is inside the loop\n",
      "counter is inside the loop\n",
      "counter is inside the loop\n",
      "counter is inside the loop\n",
      "counter is inside the loop\n",
      "counter is inside the loop\n",
      "counter is inside the loop\n",
      "counter is inside the loop\n",
      "counter is out of the loop\n"
     ]
    }
   ],
   "source": [
    "counter=1\n",
    "while(counter<10):\n",
    "    print('counter is inside the loop')\n",
    "    counter+=1\n",
    "else:\n",
    "    print('counter is out of the loop')"
   ]
  },
  {
   "cell_type": "code",
   "execution_count": 7,
   "id": "d7646d12",
   "metadata": {},
   "outputs": [
    {
     "name": "stdout",
     "output_type": "stream",
     "text": [
      "38\n"
     ]
    }
   ],
   "source": [
    "x=40\n",
    "if x>10:\n",
    "    x-=2\n",
    "    print(x)\n",
    "elif x<10:\n",
    "    x+=2\n",
    "    print(x)\n",
    "else:\n",
    "    print(x)"
   ]
  },
  {
   "cell_type": "code",
   "execution_count": 9,
   "id": "553a0a62",
   "metadata": {},
   "outputs": [
    {
     "name": "stdout",
     "output_type": "stream",
     "text": [
      "Enter the Number33\n",
      "33 , Number is odd\n"
     ]
    }
   ],
   "source": [
    "x= int(input('Enter the Number'))\n",
    "if x%2==0:\n",
    "    print(x,',','Number is Even')\n",
    "else:\n",
    "    print(x, ',','Number is odd')"
   ]
  },
  {
   "cell_type": "code",
   "execution_count": 12,
   "id": "131f51e6",
   "metadata": {},
   "outputs": [
    {
     "data": {
      "text/plain": [
       "[10, 20, 45, 90, 100]"
      ]
     },
     "execution_count": 12,
     "metadata": {},
     "output_type": "execute_result"
    }
   ],
   "source": [
    "list1"
   ]
  },
  {
   "cell_type": "code",
   "execution_count": 14,
   "id": "da97dd0f",
   "metadata": {},
   "outputs": [
    {
     "name": "stdout",
     "output_type": "stream",
     "text": [
      "10 , Even\n",
      "20 , Even\n",
      "45 , odd\n",
      "90 , Even\n",
      "100 , Even\n"
     ]
    }
   ],
   "source": [
    "for x in list1:\n",
    "    if x%2==0:\n",
    "        print(x,',','Even')\n",
    "    else:\n",
    "         print(x, ',','odd')"
   ]
  },
  {
   "cell_type": "markdown",
   "id": "9e2d0ef0",
   "metadata": {},
   "source": [
    "## Functions"
   ]
  },
  {
   "cell_type": "code",
   "execution_count": 15,
   "id": "fceb7e54",
   "metadata": {},
   "outputs": [],
   "source": [
    "def fun(x):\n",
    "    return x*x"
   ]
  },
  {
   "cell_type": "code",
   "execution_count": 19,
   "id": "1b8191e6",
   "metadata": {},
   "outputs": [
    {
     "data": {
      "text/plain": [
       "9"
      ]
     },
     "execution_count": 19,
     "metadata": {},
     "output_type": "execute_result"
    }
   ],
   "source": [
    "fun(3)"
   ]
  },
  {
   "cell_type": "code",
   "execution_count": 20,
   "id": "70d567d0",
   "metadata": {},
   "outputs": [],
   "source": [
    "def add(x):\n",
    "    return x+x"
   ]
  },
  {
   "cell_type": "code",
   "execution_count": 21,
   "id": "aa598147",
   "metadata": {},
   "outputs": [
    {
     "data": {
      "text/plain": [
       "20"
      ]
     },
     "execution_count": 21,
     "metadata": {},
     "output_type": "execute_result"
    }
   ],
   "source": [
    "add(10)"
   ]
  },
  {
   "cell_type": "code",
   "execution_count": 22,
   "id": "1a53a33f",
   "metadata": {},
   "outputs": [],
   "source": [
    "def mult(x,y):\n",
    "    return x*y"
   ]
  },
  {
   "cell_type": "code",
   "execution_count": 23,
   "id": "74b4e7c7",
   "metadata": {},
   "outputs": [
    {
     "data": {
      "text/plain": [
       "12"
      ]
     },
     "execution_count": 23,
     "metadata": {},
     "output_type": "execute_result"
    }
   ],
   "source": [
    "mult(3,4)"
   ]
  },
  {
   "cell_type": "code",
   "execution_count": 29,
   "id": "cfde1efe",
   "metadata": {},
   "outputs": [],
   "source": [
    "def Largest(x,y):\n",
    "    if x>y:\n",
    "        return x ,'largest'\n",
    "    else:\n",
    "        return y,'largest'"
   ]
  },
  {
   "cell_type": "code",
   "execution_count": 31,
   "id": "716e64bd",
   "metadata": {},
   "outputs": [
    {
     "data": {
      "text/plain": [
       "(11, 'largest')"
      ]
     },
     "execution_count": 31,
     "metadata": {},
     "output_type": "execute_result"
    }
   ],
   "source": [
    "Largest(2,11)"
   ]
  },
  {
   "cell_type": "code",
   "execution_count": 34,
   "id": "3fb0b7b2",
   "metadata": {},
   "outputs": [],
   "source": [
    "a=[]\n",
    "odd=[]\n",
    "even=[]\n",
    "def fun(a):\n",
    "    for i in a:\n",
    "        if i%2==0:\n",
    "            even.append(i)\n",
    "        else:\n",
    "            odd.append(i)\n",
    "    print(even,odd)"
   ]
  },
  {
   "cell_type": "code",
   "execution_count": 35,
   "id": "adcc8440",
   "metadata": {},
   "outputs": [
    {
     "name": "stdout",
     "output_type": "stream",
     "text": [
      "[8, 10, 22] [1, 3, 23]\n"
     ]
    }
   ],
   "source": [
    "fun([1,3,8,10,22,23])"
   ]
  },
  {
   "cell_type": "markdown",
   "id": "7cc8198b",
   "metadata": {},
   "source": [
    "## Lambda "
   ]
  },
  {
   "cell_type": "code",
   "execution_count": 36,
   "id": "cb7d43f6",
   "metadata": {},
   "outputs": [],
   "source": [
    "fun= lambda x: x*2"
   ]
  },
  {
   "cell_type": "code",
   "execution_count": 37,
   "id": "803bb869",
   "metadata": {},
   "outputs": [
    {
     "data": {
      "text/plain": [
       "8"
      ]
     },
     "execution_count": 37,
     "metadata": {},
     "output_type": "execute_result"
    }
   ],
   "source": [
    "fun(4)"
   ]
  },
  {
   "cell_type": "code",
   "execution_count": 38,
   "id": "aecd4bf0",
   "metadata": {},
   "outputs": [],
   "source": [
    "fun1= lambda x,y: x*y"
   ]
  },
  {
   "cell_type": "code",
   "execution_count": 39,
   "id": "0f0ca26b",
   "metadata": {},
   "outputs": [
    {
     "data": {
      "text/plain": [
       "12"
      ]
     },
     "execution_count": 39,
     "metadata": {},
     "output_type": "execute_result"
    }
   ],
   "source": [
    "fun1(3,4)"
   ]
  },
  {
   "cell_type": "code",
   "execution_count": 40,
   "id": "ed26864a",
   "metadata": {},
   "outputs": [],
   "source": [
    "fun2= lambda x:'even' if x%2==0 else 'odd'"
   ]
  },
  {
   "cell_type": "code",
   "execution_count": 42,
   "id": "cbe134f6",
   "metadata": {},
   "outputs": [
    {
     "data": {
      "text/plain": [
       "'odd'"
      ]
     },
     "execution_count": 42,
     "metadata": {},
     "output_type": "execute_result"
    }
   ],
   "source": [
    "fun2(41)"
   ]
  },
  {
   "cell_type": "code",
   "execution_count": 43,
   "id": "9530e5d6",
   "metadata": {},
   "outputs": [
    {
     "data": {
      "text/plain": [
       "[10, 20, 45, 90, 100]"
      ]
     },
     "execution_count": 43,
     "metadata": {},
     "output_type": "execute_result"
    }
   ],
   "source": [
    "list1"
   ]
  },
  {
   "cell_type": "code",
   "execution_count": 44,
   "id": "a6212849",
   "metadata": {},
   "outputs": [],
   "source": [
    "fun2= lambda x:['even' if x%2==0 else 'odd' for x in list1]"
   ]
  },
  {
   "cell_type": "code",
   "execution_count": 47,
   "id": "7827a7fd",
   "metadata": {},
   "outputs": [
    {
     "data": {
      "text/plain": [
       "['even', 'even', 'odd', 'even', 'even']"
      ]
     },
     "execution_count": 47,
     "metadata": {},
     "output_type": "execute_result"
    }
   ],
   "source": [
    "fun2(list1)"
   ]
  },
  {
   "cell_type": "code",
   "execution_count": 50,
   "id": "d57db749",
   "metadata": {},
   "outputs": [],
   "source": [
    "list2=[20,23,34]"
   ]
  },
  {
   "cell_type": "code",
   "execution_count": 48,
   "id": "e263cc56",
   "metadata": {},
   "outputs": [
    {
     "data": {
      "text/plain": [
       "[10, 20, 45, 90, 100]"
      ]
     },
     "execution_count": 48,
     "metadata": {},
     "output_type": "execute_result"
    }
   ],
   "source": [
    "list1"
   ]
  },
  {
   "cell_type": "code",
   "execution_count": 51,
   "id": "bdc95a89",
   "metadata": {},
   "outputs": [
    {
     "data": {
      "text/plain": [
       "[20, 34]"
      ]
     },
     "execution_count": 51,
     "metadata": {},
     "output_type": "execute_result"
    }
   ],
   "source": [
    "list(filter(lambda x: x%2==0,list2))"
   ]
  },
  {
   "cell_type": "code",
   "execution_count": 52,
   "id": "31012941",
   "metadata": {},
   "outputs": [],
   "source": [
    "def fun(x):\n",
    "    if x>10:\n",
    "        return x"
   ]
  },
  {
   "cell_type": "code",
   "execution_count": 56,
   "id": "eda3bb6a",
   "metadata": {},
   "outputs": [],
   "source": [
    "fun(1)"
   ]
  },
  {
   "cell_type": "code",
   "execution_count": 57,
   "id": "defafd53",
   "metadata": {},
   "outputs": [
    {
     "data": {
      "text/plain": [
       "[10, 20, 45, 90, 100]"
      ]
     },
     "execution_count": 57,
     "metadata": {},
     "output_type": "execute_result"
    }
   ],
   "source": [
    "list1"
   ]
  },
  {
   "cell_type": "code",
   "execution_count": 58,
   "id": "038d343a",
   "metadata": {},
   "outputs": [
    {
     "data": {
      "text/plain": [
       "[20, 45, 90, 100]"
      ]
     },
     "execution_count": 58,
     "metadata": {},
     "output_type": "execute_result"
    }
   ],
   "source": [
    "list(filter(fun,list1))"
   ]
  },
  {
   "cell_type": "markdown",
   "id": "e5175da7",
   "metadata": {},
   "source": [
    "## Numpy"
   ]
  },
  {
   "cell_type": "code",
   "execution_count": 59,
   "id": "c7c3de11",
   "metadata": {},
   "outputs": [],
   "source": [
    "list1=[10,20,30]\n",
    "list2=[2,4,6]"
   ]
  },
  {
   "cell_type": "code",
   "execution_count": 68,
   "id": "803db188",
   "metadata": {},
   "outputs": [],
   "source": [
    "list3=[]\n",
    "for i in range(len(list1)):\n",
    "    list3.append(list1[i]-list2[i])"
   ]
  },
  {
   "cell_type": "code",
   "execution_count": 69,
   "id": "1a74ec2f",
   "metadata": {},
   "outputs": [
    {
     "data": {
      "text/plain": [
       "[8, 16, 24]"
      ]
     },
     "execution_count": 69,
     "metadata": {},
     "output_type": "execute_result"
    }
   ],
   "source": [
    "list3"
   ]
  },
  {
   "cell_type": "code",
   "execution_count": 70,
   "id": "c363be7e",
   "metadata": {},
   "outputs": [],
   "source": [
    "import numpy as np"
   ]
  },
  {
   "cell_type": "code",
   "execution_count": 71,
   "id": "7379de63",
   "metadata": {},
   "outputs": [],
   "source": [
    "one_dim= np.array([1,3,4,5,10,20,23])"
   ]
  },
  {
   "cell_type": "code",
   "execution_count": 72,
   "id": "9890944f",
   "metadata": {},
   "outputs": [
    {
     "data": {
      "text/plain": [
       "array([ 1,  3,  4,  5, 10, 20, 23])"
      ]
     },
     "execution_count": 72,
     "metadata": {},
     "output_type": "execute_result"
    }
   ],
   "source": [
    "one_dim"
   ]
  },
  {
   "cell_type": "code",
   "execution_count": 73,
   "id": "7793e55f",
   "metadata": {},
   "outputs": [
    {
     "data": {
      "text/plain": [
       "numpy.ndarray"
      ]
     },
     "execution_count": 73,
     "metadata": {},
     "output_type": "execute_result"
    }
   ],
   "source": [
    "type(one_dim)"
   ]
  },
  {
   "cell_type": "code",
   "execution_count": 74,
   "id": "916b51fe",
   "metadata": {},
   "outputs": [
    {
     "data": {
      "text/plain": [
       "1"
      ]
     },
     "execution_count": 74,
     "metadata": {},
     "output_type": "execute_result"
    }
   ],
   "source": [
    "one_dim.ndim"
   ]
  },
  {
   "cell_type": "code",
   "execution_count": 75,
   "id": "7b19e406",
   "metadata": {},
   "outputs": [
    {
     "data": {
      "text/plain": [
       "7"
      ]
     },
     "execution_count": 75,
     "metadata": {},
     "output_type": "execute_result"
    }
   ],
   "source": [
    "one_dim.size"
   ]
  },
  {
   "cell_type": "code",
   "execution_count": 76,
   "id": "3250f80c",
   "metadata": {},
   "outputs": [
    {
     "data": {
      "text/plain": [
       "20"
      ]
     },
     "execution_count": 76,
     "metadata": {},
     "output_type": "execute_result"
    }
   ],
   "source": [
    "one_dim[5]"
   ]
  },
  {
   "cell_type": "code",
   "execution_count": 77,
   "id": "2446b87f",
   "metadata": {},
   "outputs": [
    {
     "data": {
      "text/plain": [
       "array([ 1,  3,  4,  5, 10, 20, 23])"
      ]
     },
     "execution_count": 77,
     "metadata": {},
     "output_type": "execute_result"
    }
   ],
   "source": [
    "one_dim"
   ]
  },
  {
   "cell_type": "code",
   "execution_count": 79,
   "id": "12928727",
   "metadata": {},
   "outputs": [
    {
     "data": {
      "text/plain": [
       "array([ 4,  5, 10])"
      ]
     },
     "execution_count": 79,
     "metadata": {},
     "output_type": "execute_result"
    }
   ],
   "source": [
    "one_dim[2:5]"
   ]
  },
  {
   "cell_type": "code",
   "execution_count": 81,
   "id": "445a1b92",
   "metadata": {},
   "outputs": [
    {
     "data": {
      "text/plain": [
       "array([ 1,  3,  4, 50,  5, 10, 20, 23])"
      ]
     },
     "execution_count": 81,
     "metadata": {},
     "output_type": "execute_result"
    }
   ],
   "source": [
    "np.insert(one_dim,3,50)"
   ]
  },
  {
   "cell_type": "code",
   "execution_count": 82,
   "id": "93db0ced",
   "metadata": {},
   "outputs": [
    {
     "data": {
      "text/plain": [
       "array([ 1,  3,  4,  5, 10, 20, 23])"
      ]
     },
     "execution_count": 82,
     "metadata": {},
     "output_type": "execute_result"
    }
   ],
   "source": [
    "one_dim"
   ]
  },
  {
   "cell_type": "code",
   "execution_count": 94,
   "id": "043dbadf",
   "metadata": {},
   "outputs": [
    {
     "data": {
      "text/plain": [
       "4"
      ]
     },
     "execution_count": 94,
     "metadata": {},
     "output_type": "execute_result"
    }
   ],
   "source": [
    "np.where(one_dim==10)[0][0]"
   ]
  },
  {
   "cell_type": "code",
   "execution_count": 89,
   "id": "9430466f",
   "metadata": {},
   "outputs": [
    {
     "data": {
      "text/plain": [
       "(array([6], dtype=int64),)"
      ]
     },
     "execution_count": 89,
     "metadata": {},
     "output_type": "execute_result"
    }
   ],
   "source": [
    "np.where(one_dim==23)"
   ]
  },
  {
   "cell_type": "code",
   "execution_count": 95,
   "id": "18a24a3e",
   "metadata": {},
   "outputs": [
    {
     "data": {
      "text/plain": [
       "array([ 1,  3,  4,  5, 10, 20, 23])"
      ]
     },
     "execution_count": 95,
     "metadata": {},
     "output_type": "execute_result"
    }
   ],
   "source": [
    "one_dim"
   ]
  },
  {
   "cell_type": "code",
   "execution_count": 97,
   "id": "3bf3dbf9",
   "metadata": {},
   "outputs": [],
   "source": [
    "one_dim[4]=100"
   ]
  },
  {
   "cell_type": "code",
   "execution_count": 98,
   "id": "d0daf343",
   "metadata": {},
   "outputs": [
    {
     "data": {
      "text/plain": [
       "array([  1,   3,   4,   5, 100,  20,  23])"
      ]
     },
     "execution_count": 98,
     "metadata": {},
     "output_type": "execute_result"
    }
   ],
   "source": [
    "one_dim"
   ]
  },
  {
   "cell_type": "code",
   "execution_count": 100,
   "id": "9469bf91",
   "metadata": {},
   "outputs": [
    {
     "data": {
      "text/plain": [
       "array([ 1,  3,  4, 20, 23])"
      ]
     },
     "execution_count": 100,
     "metadata": {},
     "output_type": "execute_result"
    }
   ],
   "source": [
    "np.delete(one_dim,[3,4])"
   ]
  },
  {
   "cell_type": "markdown",
   "id": "9623566b",
   "metadata": {},
   "source": [
    "## Two_Dimensional_Array"
   ]
  },
  {
   "cell_type": "code",
   "execution_count": 101,
   "id": "6ecf6944",
   "metadata": {},
   "outputs": [],
   "source": [
    "two_dim= np.array([[1,2,3],[4,5,6],[7,8,9]])"
   ]
  },
  {
   "cell_type": "code",
   "execution_count": 102,
   "id": "8531904a",
   "metadata": {},
   "outputs": [
    {
     "data": {
      "text/plain": [
       "array([[1, 2, 3],\n",
       "       [4, 5, 6],\n",
       "       [7, 8, 9]])"
      ]
     },
     "execution_count": 102,
     "metadata": {},
     "output_type": "execute_result"
    }
   ],
   "source": [
    "two_dim"
   ]
  },
  {
   "cell_type": "code",
   "execution_count": 103,
   "id": "2b8579c0",
   "metadata": {},
   "outputs": [
    {
     "data": {
      "text/plain": [
       "numpy.ndarray"
      ]
     },
     "execution_count": 103,
     "metadata": {},
     "output_type": "execute_result"
    }
   ],
   "source": [
    "type(two_dim)"
   ]
  },
  {
   "cell_type": "code",
   "execution_count": 104,
   "id": "95bedde6",
   "metadata": {},
   "outputs": [
    {
     "data": {
      "text/plain": [
       "2"
      ]
     },
     "execution_count": 104,
     "metadata": {},
     "output_type": "execute_result"
    }
   ],
   "source": [
    "two_dim.ndim"
   ]
  },
  {
   "cell_type": "code",
   "execution_count": 105,
   "id": "26fbe4e5",
   "metadata": {},
   "outputs": [
    {
     "data": {
      "text/plain": [
       "9"
      ]
     },
     "execution_count": 105,
     "metadata": {},
     "output_type": "execute_result"
    }
   ],
   "source": [
    "two_dim.size"
   ]
  },
  {
   "cell_type": "code",
   "execution_count": 106,
   "id": "6fb4462b",
   "metadata": {},
   "outputs": [
    {
     "data": {
      "text/plain": [
       "(3, 3)"
      ]
     },
     "execution_count": 106,
     "metadata": {},
     "output_type": "execute_result"
    }
   ],
   "source": [
    "two_dim.shape"
   ]
  },
  {
   "cell_type": "code",
   "execution_count": 107,
   "id": "c5391951",
   "metadata": {},
   "outputs": [
    {
     "data": {
      "text/plain": [
       "array([[1, 2, 3],\n",
       "       [4, 5, 6],\n",
       "       [7, 8, 9]])"
      ]
     },
     "execution_count": 107,
     "metadata": {},
     "output_type": "execute_result"
    }
   ],
   "source": [
    "two_dim"
   ]
  },
  {
   "cell_type": "code",
   "execution_count": 108,
   "id": "2f47befc",
   "metadata": {},
   "outputs": [
    {
     "data": {
      "text/plain": [
       "4"
      ]
     },
     "execution_count": 108,
     "metadata": {},
     "output_type": "execute_result"
    }
   ],
   "source": [
    "two_dim[1,0]"
   ]
  },
  {
   "cell_type": "code",
   "execution_count": 109,
   "id": "2c4047f7",
   "metadata": {},
   "outputs": [
    {
     "data": {
      "text/plain": [
       "8"
      ]
     },
     "execution_count": 109,
     "metadata": {},
     "output_type": "execute_result"
    }
   ],
   "source": [
    "two_dim[2,1]"
   ]
  },
  {
   "cell_type": "code",
   "execution_count": null,
   "id": "bc66a667",
   "metadata": {},
   "outputs": [],
   "source": []
  }
 ],
 "metadata": {
  "kernelspec": {
   "display_name": "Python 3 (ipykernel)",
   "language": "python",
   "name": "python3"
  },
  "language_info": {
   "codemirror_mode": {
    "name": "ipython",
    "version": 3
   },
   "file_extension": ".py",
   "mimetype": "text/x-python",
   "name": "python",
   "nbconvert_exporter": "python",
   "pygments_lexer": "ipython3",
   "version": "3.11.5"
  }
 },
 "nbformat": 4,
 "nbformat_minor": 5
}
