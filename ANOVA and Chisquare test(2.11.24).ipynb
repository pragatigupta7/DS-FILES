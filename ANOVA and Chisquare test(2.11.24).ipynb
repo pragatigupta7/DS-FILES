{
 "cells": [
  {
   "cell_type": "code",
   "execution_count": 3,
   "id": "fbc83ffc",
   "metadata": {},
   "outputs": [],
   "source": [
    "a= [2,3,7,2,6]\n",
    "b=[10,8,7,5,10]\n",
    "c=[10,13,14,13,15]"
   ]
  },
  {
   "cell_type": "code",
   "execution_count": 4,
   "id": "7825fec7",
   "metadata": {},
   "outputs": [],
   "source": [
    "import numpy as np\n",
    "import scipy.stats as stats\n",
    "import pandas as pd"
   ]
  },
  {
   "cell_type": "code",
   "execution_count": 5,
   "id": "6e9fd827",
   "metadata": {},
   "outputs": [],
   "source": [
    "## Fstats= (Variance_bet_group/df1)/(Variance_within_the_group/df2)"
   ]
  },
  {
   "cell_type": "code",
   "execution_count": 6,
   "id": "614157ce",
   "metadata": {},
   "outputs": [],
   "source": [
    "df1=2\n",
    "df2= 12"
   ]
  },
  {
   "cell_type": "code",
   "execution_count": 7,
   "id": "bc2f65d4",
   "metadata": {},
   "outputs": [],
   "source": [
    "## Variance_between_group= n*sum((Overallmean-sample_mean)**2)\n",
    "## Variance_within_group= Vars1+Vars2+Vars3"
   ]
  },
  {
   "cell_type": "code",
   "execution_count": 9,
   "id": "59f89eb4",
   "metadata": {},
   "outputs": [],
   "source": [
    "## Variance_between_group\n",
    "n=5"
   ]
  },
  {
   "cell_type": "code",
   "execution_count": 10,
   "id": "d56323cd",
   "metadata": {},
   "outputs": [
    {
     "name": "stdout",
     "output_type": "stream",
     "text": [
      "4.0 8.0 13.0\n"
     ]
    }
   ],
   "source": [
    "mean_a= np.mean(a)\n",
    "mean_b= np.mean(b)\n",
    "mean_c= np.mean(c)\n",
    "print(mean_a,mean_b,mean_c)"
   ]
  },
  {
   "cell_type": "code",
   "execution_count": 11,
   "id": "fcc10784",
   "metadata": {},
   "outputs": [
    {
     "data": {
      "text/plain": [
       "8.333333333333334"
      ]
     },
     "execution_count": 11,
     "metadata": {},
     "output_type": "execute_result"
    }
   ],
   "source": [
    "Overall_mean= (mean_a+mean_b+mean_c)/3\n",
    "Overall_mean"
   ]
  },
  {
   "cell_type": "code",
   "execution_count": 12,
   "id": "e953688d",
   "metadata": {},
   "outputs": [
    {
     "data": {
      "text/plain": [
       "203.33333333333331"
      ]
     },
     "execution_count": 12,
     "metadata": {},
     "output_type": "execute_result"
    }
   ],
   "source": [
    "Variance_bet_group= n*((Overall_mean-mean_a)**2)+n*((Overall_mean-mean_b)**2)+n*((Overall_mean-mean_c)**2)\n",
    "Variance_bet_group"
   ]
  },
  {
   "cell_type": "code",
   "execution_count": 13,
   "id": "d876e3e4",
   "metadata": {},
   "outputs": [],
   "source": [
    "## Variance_within_group"
   ]
  },
  {
   "cell_type": "code",
   "execution_count": 14,
   "id": "a106347e",
   "metadata": {},
   "outputs": [
    {
     "data": {
      "text/plain": [
       "54.0"
      ]
     },
     "execution_count": 14,
     "metadata": {},
     "output_type": "execute_result"
    }
   ],
   "source": [
    "Variance_within_group= sum((a-mean_a)**2)+sum((b-mean_b)**2)+ sum((c-mean_c)**2)\n",
    "Variance_within_group"
   ]
  },
  {
   "cell_type": "code",
   "execution_count": 16,
   "id": "dd02542a",
   "metadata": {},
   "outputs": [
    {
     "data": {
      "text/plain": [
       "22.59259259259259"
      ]
     },
     "execution_count": 16,
     "metadata": {},
     "output_type": "execute_result"
    }
   ],
   "source": [
    "Fstats= (Variance_bet_group/df1)/(Variance_within_group/df2)\n",
    "Fstats"
   ]
  },
  {
   "cell_type": "code",
   "execution_count": 17,
   "id": "11e4e9c4",
   "metadata": {},
   "outputs": [
    {
     "data": {
      "text/plain": [
       "F_onewayResult(statistic=22.59259259259259, pvalue=8.538592454274673e-05)"
      ]
     },
     "execution_count": 17,
     "metadata": {},
     "output_type": "execute_result"
    }
   ],
   "source": [
    "stats.f_oneway(a,b,c)"
   ]
  },
  {
   "cell_type": "code",
   "execution_count": 18,
   "id": "4b202408",
   "metadata": {},
   "outputs": [
    {
     "data": {
      "text/plain": [
       "3.8852938346523946"
      ]
     },
     "execution_count": 18,
     "metadata": {},
     "output_type": "execute_result"
    }
   ],
   "source": [
    "F_critical= stats.f.ppf(0.95,2,12)\n",
    "F_critical"
   ]
  },
  {
   "cell_type": "code",
   "execution_count": 19,
   "id": "5baa9ad2",
   "metadata": {},
   "outputs": [],
   "source": [
    "df= pd.read_csv('Plant_growth.csv')"
   ]
  },
  {
   "cell_type": "code",
   "execution_count": 21,
   "id": "d7019235",
   "metadata": {},
   "outputs": [
    {
     "data": {
      "text/html": [
       "<div>\n",
       "<style scoped>\n",
       "    .dataframe tbody tr th:only-of-type {\n",
       "        vertical-align: middle;\n",
       "    }\n",
       "\n",
       "    .dataframe tbody tr th {\n",
       "        vertical-align: top;\n",
       "    }\n",
       "\n",
       "    .dataframe thead th {\n",
       "        text-align: right;\n",
       "    }\n",
       "</style>\n",
       "<table border=\"1\" class=\"dataframe\">\n",
       "  <thead>\n",
       "    <tr style=\"text-align: right;\">\n",
       "      <th></th>\n",
       "      <th>weight</th>\n",
       "      <th>treatment_type</th>\n",
       "    </tr>\n",
       "  </thead>\n",
       "  <tbody>\n",
       "    <tr>\n",
       "      <th>0</th>\n",
       "      <td>4.17</td>\n",
       "      <td>ctrl</td>\n",
       "    </tr>\n",
       "    <tr>\n",
       "      <th>1</th>\n",
       "      <td>5.58</td>\n",
       "      <td>ctrl</td>\n",
       "    </tr>\n",
       "    <tr>\n",
       "      <th>2</th>\n",
       "      <td>5.18</td>\n",
       "      <td>ctrl</td>\n",
       "    </tr>\n",
       "    <tr>\n",
       "      <th>3</th>\n",
       "      <td>6.11</td>\n",
       "      <td>ctrl</td>\n",
       "    </tr>\n",
       "    <tr>\n",
       "      <th>4</th>\n",
       "      <td>4.50</td>\n",
       "      <td>ctrl</td>\n",
       "    </tr>\n",
       "  </tbody>\n",
       "</table>\n",
       "</div>"
      ],
      "text/plain": [
       "   weight treatment_type\n",
       "0    4.17           ctrl\n",
       "1    5.58           ctrl\n",
       "2    5.18           ctrl\n",
       "3    6.11           ctrl\n",
       "4    4.50           ctrl"
      ]
     },
     "execution_count": 21,
     "metadata": {},
     "output_type": "execute_result"
    }
   ],
   "source": [
    "df.head()"
   ]
  },
  {
   "cell_type": "code",
   "execution_count": 22,
   "id": "9bd39993",
   "metadata": {},
   "outputs": [],
   "source": [
    "## H0-- Ctrl= trt1= trt2\n",
    "## Ha-- Ctrl!=trt1!=trt2"
   ]
  },
  {
   "cell_type": "code",
   "execution_count": 23,
   "id": "27b3a209",
   "metadata": {},
   "outputs": [
    {
     "data": {
      "text/plain": [
       "ctrl    10\n",
       "trt1    10\n",
       "trt2    10\n",
       "Name: treatment_type, dtype: int64"
      ]
     },
     "execution_count": 23,
     "metadata": {},
     "output_type": "execute_result"
    }
   ],
   "source": [
    "df.treatment_type.value_counts()"
   ]
  },
  {
   "cell_type": "code",
   "execution_count": 29,
   "id": "11500bdc",
   "metadata": {},
   "outputs": [
    {
     "data": {
      "text/plain": [
       "0    4.17\n",
       "1    5.58\n",
       "2    5.18\n",
       "3    6.11\n",
       "4    4.50\n",
       "5    4.61\n",
       "6    5.17\n",
       "7    4.53\n",
       "8    5.33\n",
       "9    5.14\n",
       "Name: weight, dtype: float64"
      ]
     },
     "execution_count": 29,
     "metadata": {},
     "output_type": "execute_result"
    }
   ],
   "source": [
    "ctrl=df[df.treatment_type=='ctrl']['weight']\n",
    "ctrl"
   ]
  },
  {
   "cell_type": "code",
   "execution_count": 30,
   "id": "de72f33b",
   "metadata": {},
   "outputs": [
    {
     "data": {
      "text/plain": [
       "10    4.81\n",
       "11    4.17\n",
       "12    4.41\n",
       "13    3.59\n",
       "14    5.87\n",
       "15    3.83\n",
       "16    6.03\n",
       "17    4.89\n",
       "18    4.32\n",
       "19    4.69\n",
       "Name: weight, dtype: float64"
      ]
     },
     "execution_count": 30,
     "metadata": {},
     "output_type": "execute_result"
    }
   ],
   "source": [
    "trt1=df[df.treatment_type=='trt1']['weight']\n",
    "trt1"
   ]
  },
  {
   "cell_type": "code",
   "execution_count": 32,
   "id": "7cbf8176",
   "metadata": {},
   "outputs": [
    {
     "data": {
      "text/plain": [
       "20    6.31\n",
       "21    5.12\n",
       "22    5.54\n",
       "23    5.50\n",
       "24    5.37\n",
       "25    5.29\n",
       "26    4.92\n",
       "27    6.15\n",
       "28    5.80\n",
       "29    5.26\n",
       "Name: weight, dtype: float64"
      ]
     },
     "execution_count": 32,
     "metadata": {},
     "output_type": "execute_result"
    }
   ],
   "source": [
    "trt2=df[df.treatment_type=='trt2']['weight']\n",
    "trt2"
   ]
  },
  {
   "cell_type": "code",
   "execution_count": 33,
   "id": "9aebf146",
   "metadata": {},
   "outputs": [
    {
     "data": {
      "text/plain": [
       "F_onewayResult(statistic=4.846087862380136, pvalue=0.015909958325622895)"
      ]
     },
     "execution_count": 33,
     "metadata": {},
     "output_type": "execute_result"
    }
   ],
   "source": [
    "stats.f_oneway(ctrl,trt1,trt2)"
   ]
  },
  {
   "cell_type": "code",
   "execution_count": 34,
   "id": "0cea4c4a",
   "metadata": {},
   "outputs": [
    {
     "data": {
      "text/plain": [
       "3.3541308285291986"
      ]
     },
     "execution_count": 34,
     "metadata": {},
     "output_type": "execute_result"
    }
   ],
   "source": [
    "F_critical= stats.f.ppf(0.95,2,27)\n",
    "F_critical"
   ]
  },
  {
   "cell_type": "code",
   "execution_count": 35,
   "id": "d6acb2bd",
   "metadata": {},
   "outputs": [],
   "source": [
    "## Fcritical < Fstats reject H0\n",
    "## Ctrl!=trt1!=trt2"
   ]
  },
  {
   "cell_type": "markdown",
   "id": "9aaa97ef",
   "metadata": {},
   "source": [
    "## Chisquare_test"
   ]
  },
  {
   "cell_type": "code",
   "execution_count": 38,
   "id": "e3dc0b32",
   "metadata": {},
   "outputs": [],
   "source": [
    "Exp= [150,100,250]\n",
    "Obs= [140,160,200]"
   ]
  },
  {
   "cell_type": "code",
   "execution_count": 39,
   "id": "adc3a939",
   "metadata": {},
   "outputs": [
    {
     "data": {
      "text/plain": [
       "Power_divergenceResult(statistic=46.666666666666664, pvalue=7.352958061453826e-11)"
      ]
     },
     "execution_count": 39,
     "metadata": {},
     "output_type": "execute_result"
    }
   ],
   "source": [
    "stats.chisquare(Obs,Exp)"
   ]
  },
  {
   "cell_type": "code",
   "execution_count": 40,
   "id": "1f476b9b",
   "metadata": {},
   "outputs": [
    {
     "data": {
      "text/plain": [
       "5.991464547107979"
      ]
     },
     "execution_count": 40,
     "metadata": {},
     "output_type": "execute_result"
    }
   ],
   "source": [
    "chi_critical= stats.chi2.ppf(0.95,2)\n",
    "chi_critical"
   ]
  },
  {
   "cell_type": "markdown",
   "id": "f49e53a5",
   "metadata": {},
   "source": [
    "## A school principal would like to know which day of the week students are most likely to be absent. The principal expects that students will be absent equally during the 5-day school weak. The principal selects a random sample of 100 teachers asking them which day of the week they had the highest number of student absences. The observed and expected results are shown in table below. Based on the results do the days for the highest number of absences occur with equal frequencies? (Use \ta 5% significant level)"
   ]
  },
  {
   "cell_type": "code",
   "execution_count": null,
   "id": "b75649f6",
   "metadata": {},
   "outputs": [],
   "source": [
    "        \tMo  Tu\tWe\tTh Fri\n",
    "observed\t23\t16\t14\t19\t28\n",
    "Expected\t20\t20\t20\t20\t20\n"
   ]
  },
  {
   "cell_type": "code",
   "execution_count": 41,
   "id": "bda9b8a3",
   "metadata": {},
   "outputs": [],
   "source": [
    "Obs=[23,16,14,19,28]\n",
    "Exp=[20,20,20,20,20]"
   ]
  },
  {
   "cell_type": "code",
   "execution_count": 42,
   "id": "f65c1ee0",
   "metadata": {},
   "outputs": [],
   "source": [
    "## H0--Absence occur with different frequencies\n",
    "## Ha-- Absence occur with same frequencies"
   ]
  },
  {
   "cell_type": "code",
   "execution_count": 43,
   "id": "6529cfc2",
   "metadata": {},
   "outputs": [
    {
     "data": {
      "text/plain": [
       "Power_divergenceResult(statistic=6.3, pvalue=0.1778363264982168)"
      ]
     },
     "execution_count": 43,
     "metadata": {},
     "output_type": "execute_result"
    }
   ],
   "source": [
    "stats.chisquare(Obs,Exp)"
   ]
  },
  {
   "cell_type": "code",
   "execution_count": 46,
   "id": "5b7cecb3",
   "metadata": {},
   "outputs": [
    {
     "data": {
      "text/plain": [
       "9.487729036781154"
      ]
     },
     "execution_count": 46,
     "metadata": {},
     "output_type": "execute_result"
    }
   ],
   "source": [
    "chi_critical=stats.chi2.ppf(0.95,4)\n",
    "chi_critical"
   ]
  },
  {
   "cell_type": "code",
   "execution_count": 47,
   "id": "f1410387",
   "metadata": {},
   "outputs": [],
   "source": [
    "## Since chi_stats<chi_critical fail to reject H0\n",
    "## So Absence occur with different frequencies"
   ]
  },
  {
   "cell_type": "code",
   "execution_count": 48,
   "id": "c7fe452a",
   "metadata": {},
   "outputs": [],
   "source": [
    "df= pd.read_csv('Voting_pattern.csv')"
   ]
  },
  {
   "cell_type": "code",
   "execution_count": 49,
   "id": "0f482f35",
   "metadata": {},
   "outputs": [
    {
     "data": {
      "text/html": [
       "<div>\n",
       "<style scoped>\n",
       "    .dataframe tbody tr th:only-of-type {\n",
       "        vertical-align: middle;\n",
       "    }\n",
       "\n",
       "    .dataframe tbody tr th {\n",
       "        vertical-align: top;\n",
       "    }\n",
       "\n",
       "    .dataframe thead th {\n",
       "        text-align: right;\n",
       "    }\n",
       "</style>\n",
       "<table border=\"1\" class=\"dataframe\">\n",
       "  <thead>\n",
       "    <tr style=\"text-align: right;\">\n",
       "      <th></th>\n",
       "      <th>RACE</th>\n",
       "      <th>PARTY</th>\n",
       "    </tr>\n",
       "  </thead>\n",
       "  <tbody>\n",
       "    <tr>\n",
       "      <th>0</th>\n",
       "      <td>WHITE</td>\n",
       "      <td>PQR</td>\n",
       "    </tr>\n",
       "    <tr>\n",
       "      <th>1</th>\n",
       "      <td>WHITE</td>\n",
       "      <td>PQR</td>\n",
       "    </tr>\n",
       "    <tr>\n",
       "      <th>2</th>\n",
       "      <td>WHITE</td>\n",
       "      <td>ABC</td>\n",
       "    </tr>\n",
       "    <tr>\n",
       "      <th>3</th>\n",
       "      <td>HISPANIC</td>\n",
       "      <td>ABC</td>\n",
       "    </tr>\n",
       "    <tr>\n",
       "      <th>4</th>\n",
       "      <td>ASIAN</td>\n",
       "      <td>ABC</td>\n",
       "    </tr>\n",
       "  </tbody>\n",
       "</table>\n",
       "</div>"
      ],
      "text/plain": [
       "       RACE PARTY\n",
       "0     WHITE   PQR\n",
       "1     WHITE   PQR\n",
       "2     WHITE   ABC\n",
       "3  HISPANIC   ABC\n",
       "4     ASIAN   ABC"
      ]
     },
     "execution_count": 49,
     "metadata": {},
     "output_type": "execute_result"
    }
   ],
   "source": [
    "df.head()"
   ]
  },
  {
   "cell_type": "code",
   "execution_count": 50,
   "id": "c2d925a9",
   "metadata": {},
   "outputs": [
    {
     "data": {
      "text/plain": [
       "WHITE               534\n",
       "HISPANIC            236\n",
       "African American    151\n",
       "ASIAN                42\n",
       "OTHER                37\n",
       "Name: RACE, dtype: int64"
      ]
     },
     "execution_count": 50,
     "metadata": {},
     "output_type": "execute_result"
    }
   ],
   "source": [
    "df.RACE.value_counts()"
   ]
  },
  {
   "cell_type": "code",
   "execution_count": 51,
   "id": "57edb12d",
   "metadata": {},
   "outputs": [
    {
     "data": {
      "text/plain": [
       "PQR    404\n",
       "ABC    403\n",
       "XYZ    193\n",
       "Name: PARTY, dtype: int64"
      ]
     },
     "execution_count": 51,
     "metadata": {},
     "output_type": "execute_result"
    }
   ],
   "source": [
    "df.PARTY.value_counts()"
   ]
  },
  {
   "cell_type": "code",
   "execution_count": 52,
   "id": "d983c670",
   "metadata": {},
   "outputs": [
    {
     "data": {
      "text/plain": [
       "(1000, 2)"
      ]
     },
     "execution_count": 52,
     "metadata": {},
     "output_type": "execute_result"
    }
   ],
   "source": [
    "df.shape"
   ]
  },
  {
   "cell_type": "code",
   "execution_count": 59,
   "id": "7122f3b8",
   "metadata": {},
   "outputs": [
    {
     "data": {
      "text/plain": [
       "16.926"
      ]
     },
     "execution_count": 59,
     "metadata": {},
     "output_type": "execute_result"
    }
   ],
   "source": [
    "42*403/1000"
   ]
  },
  {
   "cell_type": "code",
   "execution_count": 60,
   "id": "49631753",
   "metadata": {},
   "outputs": [
    {
     "data": {
      "text/html": [
       "<div>\n",
       "<style scoped>\n",
       "    .dataframe tbody tr th:only-of-type {\n",
       "        vertical-align: middle;\n",
       "    }\n",
       "\n",
       "    .dataframe tbody tr th {\n",
       "        vertical-align: top;\n",
       "    }\n",
       "\n",
       "    .dataframe thead th {\n",
       "        text-align: right;\n",
       "    }\n",
       "</style>\n",
       "<table border=\"1\" class=\"dataframe\">\n",
       "  <thead>\n",
       "    <tr style=\"text-align: right;\">\n",
       "      <th>PARTY</th>\n",
       "      <th>ABC</th>\n",
       "      <th>PQR</th>\n",
       "      <th>XYZ</th>\n",
       "    </tr>\n",
       "    <tr>\n",
       "      <th>RACE</th>\n",
       "      <th></th>\n",
       "      <th></th>\n",
       "      <th></th>\n",
       "    </tr>\n",
       "  </thead>\n",
       "  <tbody>\n",
       "    <tr>\n",
       "      <th>ASIAN</th>\n",
       "      <td>19</td>\n",
       "      <td>15</td>\n",
       "      <td>8</td>\n",
       "    </tr>\n",
       "    <tr>\n",
       "      <th>African American</th>\n",
       "      <td>60</td>\n",
       "      <td>59</td>\n",
       "      <td>32</td>\n",
       "    </tr>\n",
       "    <tr>\n",
       "      <th>HISPANIC</th>\n",
       "      <td>105</td>\n",
       "      <td>86</td>\n",
       "      <td>45</td>\n",
       "    </tr>\n",
       "    <tr>\n",
       "      <th>OTHER</th>\n",
       "      <td>12</td>\n",
       "      <td>17</td>\n",
       "      <td>8</td>\n",
       "    </tr>\n",
       "    <tr>\n",
       "      <th>WHITE</th>\n",
       "      <td>207</td>\n",
       "      <td>227</td>\n",
       "      <td>100</td>\n",
       "    </tr>\n",
       "  </tbody>\n",
       "</table>\n",
       "</div>"
      ],
      "text/plain": [
       "PARTY             ABC  PQR  XYZ\n",
       "RACE                           \n",
       "ASIAN              19   15    8\n",
       "African American   60   59   32\n",
       "HISPANIC          105   86   45\n",
       "OTHER              12   17    8\n",
       "WHITE             207  227  100"
      ]
     },
     "execution_count": 60,
     "metadata": {},
     "output_type": "execute_result"
    }
   ],
   "source": [
    "df_new=pd.crosstab(index=df.RACE,columns=df.PARTY)\n",
    "df_new"
   ]
  },
  {
   "cell_type": "code",
   "execution_count": 61,
   "id": "cdf500ea",
   "metadata": {},
   "outputs": [
    {
     "data": {
      "text/plain": [
       "Chi2ContingencyResult(statistic=4.737839473077469, pvalue=0.7851934085104637, dof=8, expected_freq=array([[ 16.926,  16.968,   8.106],\n",
       "       [ 60.853,  61.004,  29.143],\n",
       "       [ 95.108,  95.344,  45.548],\n",
       "       [ 14.911,  14.948,   7.141],\n",
       "       [215.202, 215.736, 103.062]]))"
      ]
     },
     "execution_count": 61,
     "metadata": {},
     "output_type": "execute_result"
    }
   ],
   "source": [
    "stats.chi2_contingency(df_new)"
   ]
  },
  {
   "cell_type": "code",
   "execution_count": 63,
   "id": "a67ec4d0",
   "metadata": {},
   "outputs": [
    {
     "data": {
      "text/plain": [
       "15.507313055865453"
      ]
     },
     "execution_count": 63,
     "metadata": {},
     "output_type": "execute_result"
    }
   ],
   "source": [
    "chi_critical= stats.chi2.ppf(0.95,8)\n",
    "chi_critical"
   ]
  },
  {
   "cell_type": "code",
   "execution_count": null,
   "id": "3acdf9eb",
   "metadata": {},
   "outputs": [],
   "source": []
  }
 ],
 "metadata": {
  "kernelspec": {
   "display_name": "Python 3 (ipykernel)",
   "language": "python",
   "name": "python3"
  },
  "language_info": {
   "codemirror_mode": {
    "name": "ipython",
    "version": 3
   },
   "file_extension": ".py",
   "mimetype": "text/x-python",
   "name": "python",
   "nbconvert_exporter": "python",
   "pygments_lexer": "ipython3",
   "version": "3.11.5"
  }
 },
 "nbformat": 4,
 "nbformat_minor": 5
}
