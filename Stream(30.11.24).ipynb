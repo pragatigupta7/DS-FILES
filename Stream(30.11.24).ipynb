{
 "cells": [
  {
   "cell_type": "code",
   "execution_count": 9,
   "id": "2787c73a",
   "metadata": {},
   "outputs": [],
   "source": [
    "import pickle\n",
    "import pandas as pd\n",
    "import numpy as np\n",
    "import streamlit as st\n",
    "import warnings\n",
    "warnings.filterwarnings('ignore')"
   ]
  },
  {
   "cell_type": "code",
   "execution_count": 10,
   "id": "a2f4d6bd",
   "metadata": {},
   "outputs": [],
   "source": [
    "model= pickle.load(open('log30.pkl','rb'))"
   ]
  },
  {
   "cell_type": "code",
   "execution_count": 11,
   "id": "77b306aa",
   "metadata": {},
   "outputs": [
    {
     "data": {
      "text/plain": [
       "DeltaGenerator()"
      ]
     },
     "execution_count": 11,
     "metadata": {},
     "output_type": "execute_result"
    }
   ],
   "source": [
    "st.title('Model Deployment using Logistic Regression')"
   ]
  },
  {
   "cell_type": "code",
   "execution_count": 12,
   "id": "60803854",
   "metadata": {},
   "outputs": [],
   "source": [
    "def user_input_parameters():\n",
    "    CLMSEX= st.sidebar.selectbox('Gender, Male-1,Female-0',[0,1])\n",
    "    CLMINSUR= st.sidebar.selectbox('Insurance, Yes-1,No-0',[0,1])\n",
    "    SEATBELT= st.sidebar.selectbox('Seatbelt, Yes-1,No-0',[0,1])\n",
    "    CLMAGE=st.sidebar.slider('Age',0,95)\n",
    "    LOSS= st.sidebar.number_input('LOSS')\n",
    "    data= {'CLMSEX':CLMSEX,'CLMINSUR':CLMINSUR,'SEATBELT':SEATBELT,'CLMAGE':CLMAGE,'LOSS':LOSS}\n",
    "    features= pd.DataFrame(data,index=[0])\n",
    "    return features\n",
    "df= user_input_parameters()\n",
    "st.subheader('User Input Parameters')\n",
    "st.write(df)\n",
    "pred= model.predict(df)\n",
    "pred_prob= model.predict_proba(df)\n",
    "st.subheader('Predicted Value')\n",
    "st.write('Yes' if pred_prob[0][1]>=0.5 else 'No')\n",
    "st.subheader('Predicted_proba')\n",
    "st.write(pred_prob)"
   ]
  },
  {
   "cell_type": "code",
   "execution_count": null,
   "id": "f9d160b3",
   "metadata": {},
   "outputs": [],
   "source": []
  }
 ],
 "metadata": {
  "kernelspec": {
   "display_name": "Python 3 (ipykernel)",
   "language": "python",
   "name": "python3"
  },
  "language_info": {
   "codemirror_mode": {
    "name": "ipython",
    "version": 3
   },
   "file_extension": ".py",
   "mimetype": "text/x-python",
   "name": "python",
   "nbconvert_exporter": "python",
   "pygments_lexer": "ipython3",
   "version": "3.11.5"
  }
 },
 "nbformat": 4,
 "nbformat_minor": 5
}
