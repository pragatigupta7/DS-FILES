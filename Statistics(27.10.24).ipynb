{
 "cells": [
  {
   "cell_type": "code",
   "execution_count": 1,
   "id": "67144d68",
   "metadata": {},
   "outputs": [],
   "source": [
    "Exp=[1,2,3,4,5]\n",
    "Salary=[1000,2000,3000,4000,5000]"
   ]
  },
  {
   "cell_type": "code",
   "execution_count": 2,
   "id": "8a9b6e85",
   "metadata": {},
   "outputs": [],
   "source": [
    "import numpy as np"
   ]
  },
  {
   "cell_type": "code",
   "execution_count": 3,
   "id": "cef7cea2",
   "metadata": {},
   "outputs": [
    {
     "data": {
      "text/plain": [
       "3.0"
      ]
     },
     "execution_count": 3,
     "metadata": {},
     "output_type": "execute_result"
    }
   ],
   "source": [
    "mean_Exp= np.mean(Exp)\n",
    "mean_Exp"
   ]
  },
  {
   "cell_type": "code",
   "execution_count": 4,
   "id": "c649dcf4",
   "metadata": {},
   "outputs": [
    {
     "data": {
      "text/plain": [
       "1.4142135623730951"
      ]
     },
     "execution_count": 4,
     "metadata": {},
     "output_type": "execute_result"
    }
   ],
   "source": [
    "std_exp= np.std(Exp)\n",
    "std_exp"
   ]
  },
  {
   "cell_type": "code",
   "execution_count": 7,
   "id": "90508000",
   "metadata": {},
   "outputs": [
    {
     "data": {
      "text/plain": [
       "array([-1.41421356, -0.70710678,  0.        ,  0.70710678,  1.41421356])"
      ]
     },
     "execution_count": 7,
     "metadata": {},
     "output_type": "execute_result"
    }
   ],
   "source": [
    "Standard_Exp=(Exp-mean_Exp)/std_exp\n",
    "Standard_Exp"
   ]
  },
  {
   "cell_type": "code",
   "execution_count": 8,
   "id": "8b00df35",
   "metadata": {},
   "outputs": [
    {
     "data": {
      "text/plain": [
       "3000.0"
      ]
     },
     "execution_count": 8,
     "metadata": {},
     "output_type": "execute_result"
    }
   ],
   "source": [
    "mean_sal= np.mean(Salary)\n",
    "mean_sal"
   ]
  },
  {
   "cell_type": "code",
   "execution_count": 9,
   "id": "9e464b56",
   "metadata": {},
   "outputs": [
    {
     "data": {
      "text/plain": [
       "1414.213562373095"
      ]
     },
     "execution_count": 9,
     "metadata": {},
     "output_type": "execute_result"
    }
   ],
   "source": [
    "std_sal= np.std(Salary)\n",
    "std_sal"
   ]
  },
  {
   "cell_type": "code",
   "execution_count": 10,
   "id": "e0372cde",
   "metadata": {},
   "outputs": [
    {
     "data": {
      "text/plain": [
       "array([-1.41421356, -0.70710678,  0.        ,  0.70710678,  1.41421356])"
      ]
     },
     "execution_count": 10,
     "metadata": {},
     "output_type": "execute_result"
    }
   ],
   "source": [
    "Standard_salary= (Salary-mean_sal)/std_sal\n",
    "Standard_salary"
   ]
  },
  {
   "cell_type": "code",
   "execution_count": 11,
   "id": "76850c6c",
   "metadata": {},
   "outputs": [
    {
     "data": {
      "text/plain": [
       "array([-1.41421356, -0.70710678,  0.        ,  0.70710678,  1.41421356])"
      ]
     },
     "execution_count": 11,
     "metadata": {},
     "output_type": "execute_result"
    }
   ],
   "source": [
    "Standard_Exp"
   ]
  },
  {
   "cell_type": "code",
   "execution_count": 12,
   "id": "3e9aa234",
   "metadata": {},
   "outputs": [
    {
     "data": {
      "text/plain": [
       "0.0"
      ]
     },
     "execution_count": 12,
     "metadata": {},
     "output_type": "execute_result"
    }
   ],
   "source": [
    "np.mean(Standard_Exp)"
   ]
  },
  {
   "cell_type": "code",
   "execution_count": 13,
   "id": "c5e75bab",
   "metadata": {},
   "outputs": [
    {
     "data": {
      "text/plain": [
       "0.9999999999999999"
      ]
     },
     "execution_count": 13,
     "metadata": {},
     "output_type": "execute_result"
    }
   ],
   "source": [
    "np.std(Standard_Exp)"
   ]
  },
  {
   "cell_type": "code",
   "execution_count": 14,
   "id": "4f76069b",
   "metadata": {},
   "outputs": [],
   "source": [
    "import scipy.stats as stats"
   ]
  },
  {
   "cell_type": "code",
   "execution_count": 24,
   "id": "172421f0",
   "metadata": {},
   "outputs": [],
   "source": [
    "data=stats.norm.rvs(size=100,loc=0,scale=1)"
   ]
  },
  {
   "cell_type": "code",
   "execution_count": 25,
   "id": "73a094f7",
   "metadata": {},
   "outputs": [
    {
     "data": {
      "text/plain": [
       "-0.177427924641911"
      ]
     },
     "execution_count": 25,
     "metadata": {},
     "output_type": "execute_result"
    }
   ],
   "source": [
    "data.mean()"
   ]
  },
  {
   "cell_type": "code",
   "execution_count": 26,
   "id": "d18cbc14",
   "metadata": {},
   "outputs": [
    {
     "data": {
      "text/plain": [
       "1.008778431281244"
      ]
     },
     "execution_count": 26,
     "metadata": {},
     "output_type": "execute_result"
    }
   ],
   "source": [
    "data.std()"
   ]
  },
  {
   "cell_type": "code",
   "execution_count": 27,
   "id": "844f7e7c",
   "metadata": {},
   "outputs": [],
   "source": [
    "import pandas as pd"
   ]
  },
  {
   "cell_type": "code",
   "execution_count": 28,
   "id": "0e6a83ec",
   "metadata": {},
   "outputs": [
    {
     "data": {
      "text/plain": [
       "<Axes: ylabel='Density'>"
      ]
     },
     "execution_count": 28,
     "metadata": {},
     "output_type": "execute_result"
    },
    {
     "data": {
      "image/png": "[encoded data removed]",
      "text/plain": [
       "<Figure size 640x480 with 1 Axes>"
      ]
     },
     "metadata": {},
     "output_type": "display_data"
    }
   ],
   "source": [
    "pd.DataFrame(data).plot(kind='density')"
   ]
  },
  {
   "cell_type": "code",
   "execution_count": 29,
   "id": "418e66a0",
   "metadata": {},
   "outputs": [
    {
     "data": {
      "text/plain": [
       "array([ 0.20331828, -1.76123991,  0.30737004, -0.0782965 , -1.35957297,\n",
       "        0.53755714, -1.24152794,  0.03898101, -2.85579958,  0.19345668,\n",
       "       -2.00871611, -0.2815955 ,  0.09416439,  0.30472158, -1.17506938,\n",
       "       -0.79779816,  1.45961457,  1.17677989, -0.34530272,  1.08902701,\n",
       "        0.36131208,  0.3658097 , -1.31477384, -0.16046802, -1.29074686,\n",
       "       -0.0074688 ,  1.31108959,  0.22763832,  1.13440395,  0.91552694,\n",
       "       -1.19801763, -1.21984064, -1.53838101, -0.34284423, -0.21163108,\n",
       "       -0.68284491, -1.09832743,  0.15043931, -1.62327922, -1.76751612,\n",
       "       -1.58109553, -1.0556459 ,  0.3235919 , -0.86879529, -0.09252909,\n",
       "        1.69104606,  0.51926027,  0.42173031,  0.11976707,  0.20493692,\n",
       "       -0.86957037, -0.86107805,  0.74145456,  0.6760631 , -0.82783413,\n",
       "        1.54136786,  0.28363337,  1.02551849,  0.49092138,  0.10838795,\n",
       "       -0.36108167, -0.42382676, -1.4861681 , -1.10371344, -0.09417615,\n",
       "       -0.56125212,  0.85480231,  0.0613723 ,  0.33348989, -0.41131615,\n",
       "        1.21687043,  2.37278196, -0.00397991,  0.72822765, -1.03166071,\n",
       "       -0.9020705 ,  0.48882078, -0.13794679, -0.21782383, -1.1721779 ,\n",
       "        1.64853412, -0.95905282, -0.2217523 ,  1.38663755, -2.51310962,\n",
       "        0.8575119 , -0.0525568 , -0.4985296 ,  0.36524324,  0.98997655,\n",
       "       -0.53396819, -0.04874579, -0.81402499, -0.08966297, -2.30085688,\n",
       "        0.82851587, -0.0299959 , -2.09605692, -0.54660483,  1.23525185])"
      ]
     },
     "execution_count": 29,
     "metadata": {},
     "output_type": "execute_result"
    }
   ],
   "source": [
    "data"
   ]
  },
  {
   "cell_type": "markdown",
   "id": "2a36b1e8",
   "metadata": {},
   "source": [
    "## z-test"
   ]
  },
  {
   "cell_type": "markdown",
   "id": "44bd7846",
   "metadata": {},
   "source": [
    "# The average height of all residents in a city is 168cm with a population std = 3.9. A doctor believes the mean is different. He measured the height of 36 individuals and found the average to be 169.5cm \n",
    "(a). State Null and Alternative hypothesis\n",
    "(b) At a 95% ,CI is there enough evidence to reject the Null Hypothesis.\n"
   ]
  },
  {
   "cell_type": "code",
   "execution_count": 32,
   "id": "7a1a9d9c",
   "metadata": {},
   "outputs": [],
   "source": [
    "## H0--Pop_mean is same\n",
    "## Ha-- Pop_mean is different\n",
    "## Given_data\n",
    "pop_mean=168\n",
    "pop_std_dev=3.9\n",
    "n=36\n",
    "x_bar=169.5\n",
    "## CI=0.95(95%), alpha=1-CI= (0.05)5%"
   ]
  },
  {
   "cell_type": "code",
   "execution_count": 31,
   "id": "a439a1f7",
   "metadata": {},
   "outputs": [],
   "source": [
    "## Z_score= (x_bar-pop_mean)/(pop_std_dev/sqrt(n))"
   ]
  },
  {
   "cell_type": "code",
   "execution_count": 33,
   "id": "bedd5634",
   "metadata": {},
   "outputs": [],
   "source": [
    "Z_score= (x_bar-pop_mean)/(pop_std_dev/np.sqrt(n))"
   ]
  },
  {
   "cell_type": "code",
   "execution_count": 34,
   "id": "6b18c450",
   "metadata": {},
   "outputs": [
    {
     "data": {
      "text/plain": [
       "2.3076923076923075"
      ]
     },
     "execution_count": 34,
     "metadata": {},
     "output_type": "execute_result"
    }
   ],
   "source": [
    "Z_score"
   ]
  },
  {
   "cell_type": "code",
   "execution_count": 36,
   "id": "d8d6fc8c",
   "metadata": {},
   "outputs": [
    {
     "data": {
      "text/plain": [
       "1.959963984540054"
      ]
     },
     "execution_count": 36,
     "metadata": {},
     "output_type": "execute_result"
    }
   ],
   "source": [
    "z_critical= stats.norm.ppf(0.975)\n",
    "z_critical"
   ]
  },
  {
   "cell_type": "code",
   "execution_count": 35,
   "id": "3496cf0c",
   "metadata": {},
   "outputs": [],
   "source": [
    "## Since Z_score is greater than z_critical reject H0\n",
    "## Pop_mean is different"
   ]
  },
  {
   "cell_type": "markdown",
   "id": "75f53889",
   "metadata": {},
   "source": [
    "## Scores on an exam are normally distributed with a population standard deviation=5.6. a random sample of 40 scores on the exam has a mean of 32.\n",
    "Estimate the population mean with\n",
    "a)\t80% confidence \n",
    "b)\t90% confidence\n",
    "c)\t98 confidences\n"
   ]
  },
  {
   "cell_type": "code",
   "execution_count": 41,
   "id": "fb32f0ed",
   "metadata": {},
   "outputs": [],
   "source": [
    "## Given_data\n",
    "pop_std_dev=5.6\n",
    "n=40\n",
    "x_bar=32"
   ]
  },
  {
   "cell_type": "code",
   "execution_count": 39,
   "id": "16f829ca",
   "metadata": {},
   "outputs": [],
   "source": [
    "## pop_mean_80%_CI"
   ]
  },
  {
   "cell_type": "code",
   "execution_count": 40,
   "id": "aeda503f",
   "metadata": {},
   "outputs": [
    {
     "data": {
      "text/plain": [
       "1.2815515655446004"
      ]
     },
     "execution_count": 40,
     "metadata": {},
     "output_type": "execute_result"
    }
   ],
   "source": [
    "z_critical_80= stats.norm.ppf(0.90)\n",
    "z_critical_80"
   ]
  },
  {
   "cell_type": "code",
   "execution_count": 42,
   "id": "beda5cf7",
   "metadata": {},
   "outputs": [
    {
     "data": {
      "text/plain": [
       "30.86526587189886"
      ]
     },
     "execution_count": 42,
     "metadata": {},
     "output_type": "execute_result"
    }
   ],
   "source": [
    "pop_mean_lower_80= x_bar-(z_critical_80*(pop_std_dev/np.sqrt(n)))\n",
    "pop_mean_lower_80"
   ]
  },
  {
   "cell_type": "code",
   "execution_count": 43,
   "id": "c12e29fb",
   "metadata": {},
   "outputs": [
    {
     "data": {
      "text/plain": [
       "33.134734128101144"
      ]
     },
     "execution_count": 43,
     "metadata": {},
     "output_type": "execute_result"
    }
   ],
   "source": [
    "pop_mean_upper_80= x_bar+(z_critical_80*(pop_std_dev/np.sqrt(n)))\n",
    "pop_mean_upper_80"
   ]
  },
  {
   "cell_type": "code",
   "execution_count": 44,
   "id": "3f0ace77",
   "metadata": {},
   "outputs": [
    {
     "data": {
      "text/plain": [
       "1.6448536269514722"
      ]
     },
     "execution_count": 44,
     "metadata": {},
     "output_type": "execute_result"
    }
   ],
   "source": [
    "z_critical_90= stats.norm.ppf(0.95)\n",
    "z_critical_90"
   ]
  },
  {
   "cell_type": "code",
   "execution_count": 45,
   "id": "e174b6f6",
   "metadata": {},
   "outputs": [
    {
     "data": {
      "text/plain": [
       "30.54358451394844"
      ]
     },
     "execution_count": 45,
     "metadata": {},
     "output_type": "execute_result"
    }
   ],
   "source": [
    "pop_mean_lower_90= x_bar-(z_critical_90*(pop_std_dev/np.sqrt(n)))\n",
    "pop_mean_lower_90"
   ]
  },
  {
   "cell_type": "code",
   "execution_count": 46,
   "id": "43b9924b",
   "metadata": {},
   "outputs": [
    {
     "data": {
      "text/plain": [
       "33.45641548605156"
      ]
     },
     "execution_count": 46,
     "metadata": {},
     "output_type": "execute_result"
    }
   ],
   "source": [
    "pop_mean_upper_90= x_bar+(z_critical_90*(pop_std_dev/np.sqrt(n)))\n",
    "pop_mean_upper_90"
   ]
  },
  {
   "cell_type": "code",
   "execution_count": 48,
   "id": "77dfc6c3",
   "metadata": {},
   "outputs": [
    {
     "data": {
      "text/plain": [
       "2.3263478740408408"
      ]
     },
     "execution_count": 48,
     "metadata": {},
     "output_type": "execute_result"
    }
   ],
   "source": [
    "z_critical_98= stats.norm.ppf(0.99)\n",
    "z_critical_98"
   ]
  },
  {
   "cell_type": "code",
   "execution_count": 49,
   "id": "cf3b070f",
   "metadata": {},
   "outputs": [
    {
     "data": {
      "text/plain": [
       "29.940163784679324"
      ]
     },
     "execution_count": 49,
     "metadata": {},
     "output_type": "execute_result"
    }
   ],
   "source": [
    "pop_mean_lower_98= x_bar-(z_critical_98*(pop_std_dev/np.sqrt(n)))\n",
    "pop_mean_lower_98"
   ]
  },
  {
   "cell_type": "code",
   "execution_count": 50,
   "id": "014d0253",
   "metadata": {},
   "outputs": [
    {
     "data": {
      "text/plain": [
       "34.05983621532067"
      ]
     },
     "execution_count": 50,
     "metadata": {},
     "output_type": "execute_result"
    }
   ],
   "source": [
    "pop_mean_upper_98= x_bar+(z_critical_98*(pop_std_dev/np.sqrt(n)))\n",
    "pop_mean_upper_98"
   ]
  },
  {
   "cell_type": "markdown",
   "id": "71ef0f5f",
   "metadata": {},
   "source": [
    "## t-test"
   ]
  },
  {
   "cell_type": "markdown",
   "id": "6fccc412",
   "metadata": {},
   "source": [
    "## 3.\tIn the population the average IQ is 100. A team of scientists wants to test a new medication to see if it has either a positive or negative effect on intelligence, or no effect at all. A sample of 30 participants who have been taken the medications has a mean of 140 with a standard deviation of 20. Did the medication affect the intelligence. alpha=0.05."
   ]
  },
  {
   "cell_type": "code",
   "execution_count": 53,
   "id": "39c9b93e",
   "metadata": {},
   "outputs": [],
   "source": [
    "## H0--Medication does not affect the Intelligence IQ=100\n",
    "## Ha-- Medication affects the Intelligence IQ!=100\n",
    "## Given_data\n",
    "pop_mean=100\n",
    "n=30\n",
    "x_bar=140\n",
    "s=20\n",
    "## alpha=0.05, CI= 0.95(95%)"
   ]
  },
  {
   "cell_type": "code",
   "execution_count": 52,
   "id": "084eaaf7",
   "metadata": {},
   "outputs": [],
   "source": [
    "## tstats= (x_bar-pop_mean)/(s/sqrt(n))"
   ]
  },
  {
   "cell_type": "code",
   "execution_count": 54,
   "id": "e8a35f0e",
   "metadata": {},
   "outputs": [
    {
     "data": {
      "text/plain": [
       "10.954451150103322"
      ]
     },
     "execution_count": 54,
     "metadata": {},
     "output_type": "execute_result"
    }
   ],
   "source": [
    "tstats= (x_bar-pop_mean)/(s/np.sqrt(n))\n",
    "tstats"
   ]
  },
  {
   "cell_type": "code",
   "execution_count": 55,
   "id": "9551e17b",
   "metadata": {},
   "outputs": [
    {
     "data": {
      "text/plain": [
       "2.045229642132703"
      ]
     },
     "execution_count": 55,
     "metadata": {},
     "output_type": "execute_result"
    }
   ],
   "source": [
    "t_critical= stats.t.ppf(0.975,29)\n",
    "t_critical"
   ]
  },
  {
   "cell_type": "code",
   "execution_count": 56,
   "id": "0311f198",
   "metadata": {},
   "outputs": [],
   "source": [
    "## Since t_stats > t_critical reject H0\n",
    "## Mediction affects the Intelligence Pop_mean !=100"
   ]
  },
  {
   "cell_type": "code",
   "execution_count": null,
   "id": "96ce9582",
   "metadata": {},
   "outputs": [],
   "source": []
  }
 ],
 "metadata": {
  "kernelspec": {
   "display_name": "Python 3 (ipykernel)",
   "language": "python",
   "name": "python3"
  },
  "language_info": {
   "codemirror_mode": {
    "name": "ipython",
    "version": 3
   },
   "file_extension": ".py",
   "mimetype": "text/x-python",
   "name": "python",
   "nbconvert_exporter": "python",
   "pygments_lexer": "ipython3",
   "version": "3.11.5"
  }
 },
 "nbformat": 4,
 "nbformat_minor": 5
}
